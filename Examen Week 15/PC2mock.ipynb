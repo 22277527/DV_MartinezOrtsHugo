{
 "cells": [
  {
   "cell_type": "markdown",
   "id": "13b59811",
   "metadata": {},
   "source": [
    "# **PC2 (MockExam) – Angular 19 for Data Visualization**    \n",
    "\n",
    "**Duration:** 2 hours   \n",
    "**Total Score:** 100 points   \n",
    "**Student Name: \\_\\_\\_\\_\\_\\_\\_\\_\\_\\_\\_\\_\\_\\_\\_\\_\\_\\_\\_\\_\\_\\_\\_\\_\\_\\_\\_**    \n",
    "\n",
    "---\n",
    "\n",
    "## **General Instructions:**\n",
    "\n",
    "* The exam is divided into three parts.\n",
    "* **Part I and Part II must be answered in a Jupyter Notebook (`.ipynb`)**. You may write explanations in Markdown or use code cells when applicable.\n",
    "* **Part III must be delivered as a ZIP file** containing a working Angular project.\n",
    "\n",
    "  * Do **not include** the `node_modules` folder.\n",
    "  * The project must run correctly with `npm install` and `ng serve`.\n",
    "* The use of official Angular documentation is allowed (if authorized by the instructor).\n",
    "* Incomplete submissions may result in point deductions.\n",
    "\n",
    "---\n",
    "\n"
   ]
  },
  {
   "cell_type": "markdown",
   "id": "be3d3e61",
   "metadata": {},
   "source": [
    "## **Part I: Multiple Choice – Basic Level (40 points)**\n",
    "\n",
    "**Instructions:**       \n",
    "Choose only one correct answer per question.      \n",
    "Each correct answer is worth 5 points.      \n",
    "Each incorrect answer deducts 2 points.     \n",
    "Unanswered questions receive no penalty.        \n",
    "\n"
   ]
  },
  {
   "cell_type": "markdown",
   "id": "ff7330d6",
   "metadata": {},
   "source": [
    "**1. Which of the following best characterizes Angular in the context of modern web development architecture?**     \n",
    "A) A monolithic runtime environment focused solely on client-side rendering with DOM manipulation       \n",
    "B) A reactive, component-based TypeScript framework that enforces modular design, dependency injection, and a declarative UI structure      \n",
    "C) A low-level API for direct interaction with HTML and CSS through JavaScript extensions       \n",
    "D) A lightweight server-side templating engine optimized for static content generation      "
   ]
  },
  {
   "cell_type": "markdown",
   "id": "62cbe1ef",
   "metadata": {},
   "source": [
    "B"
   ]
  },
  {
   "cell_type": "markdown",
   "id": "3ad60130",
   "metadata": {},
   "source": [
    "**2. How do you display data in an Angular HTML template?**     \n",
    "A) `if (data)`      \n",
    "B) `{{ data }}`     \n",
    "C) `<script>`       \n",
    "D) `console.log(data)`      \n",
    "\n"
   ]
  },
  {
   "cell_type": "markdown",
   "id": "e97095eb",
   "metadata": {},
   "source": [
    "B"
   ]
  },
  {
   "cell_type": "markdown",
   "id": "7aa4d341",
   "metadata": {},
   "source": [
    "**3. What is the purpose of a component in Angular?**       \n",
    "A) To handle routing        \n",
    "B) To design CSS styles     \n",
    "C) To divide the application into reusable parts        \n",
    "D) To connect to the database       \n",
    "\n"
   ]
  },
  {
   "cell_type": "markdown",
   "id": "eb37e3b8",
   "metadata": {},
   "source": [
    "C"
   ]
  },
  {
   "cell_type": "markdown",
   "id": "7b3c1970",
   "metadata": {},
   "source": [
    "**4. In Angular, how is a component’s HTML template associated with its behavior class during runtime?**        \n",
    "A) By importing the `.html` file directly into the `.ts` file using ES modules      \n",
    "B) By declaring the HTML content inside the component class using `innerHTML`       \n",
    "C) By specifying the template path in the `@Component` decorator’s `templateUrl` property       \n",
    "D) By placing the `.html` file in the same folder as the `.ts` file, Angular links them automatically       \n"
   ]
  },
  {
   "cell_type": "markdown",
   "id": "16cff6b0",
   "metadata": {},
   "source": [
    "C"
   ]
  },
  {
   "cell_type": "markdown",
   "id": "a953566a",
   "metadata": {},
   "source": [
    "**5. What does `*ngIf` do in Angular?**     \n",
    "A) Styles text      \n",
    "B) Adds an event        \n",
    "C) Conditionally shows or hides content     \n",
    "D) Repeats a list       \n",
    "\n"
   ]
  },
  {
   "cell_type": "markdown",
   "id": "ec3b053b",
   "metadata": {},
   "source": [
    "C"
   ]
  },
  {
   "cell_type": "markdown",
   "id": "76b2b7ac",
   "metadata": {},
   "source": [
    "**6. How do you run a function when a button is clicked?**      \n",
    "A) `[click]=handleClick()`      \n",
    "B) `(click)=\"handleClick()\"`    \n",
    "C) `{click}=handleClick()`      \n",
    "D) `click: handleClick();`      \n",
    "\n"
   ]
  },
  {
   "cell_type": "markdown",
   "id": "f0676255",
   "metadata": {},
   "source": [
    "B"
   ]
  },
  {
   "cell_type": "markdown",
   "id": "ec0a2d65",
   "metadata": {},
   "source": [
    "**7. What is needed for a component to function in Angular?**       \n",
    "A) Only a CSS file      \n",
    "B) An HTML file and a TypeScript file       \n",
    "C) A JSON file      \n",
    "D) An EXE file      \n",
    "\n"
   ]
  },
  {
   "cell_type": "markdown",
   "id": "e0f812d8",
   "metadata": {},
   "source": [
    "A"
   ]
  },
  {
   "cell_type": "markdown",
   "id": "f4e48b18",
   "metadata": {},
   "source": [
    "**8. Which of the following best describes the role of the Angular CLI in enterprise-scale application development workflows?**     \n",
    "A) It provides a UI editor to manually build components, services, and modules.     \n",
    "B) It compiles JavaScript directly to native WebAssembly for performance optimization.      \n",
    "C) It automates project scaffolding, configuration, testing, and builds with opinionated defaults.      \n",
    "D) It serves as a replacement for the Angular compiler (`@angular/compiler`) during runtime.        \n",
    "\n",
    "\n"
   ]
  },
  {
   "cell_type": "markdown",
   "id": "285be789",
   "metadata": {},
   "source": [
    "C"
   ]
  },
  {
   "cell_type": "markdown",
   "id": "3cad030b",
   "metadata": {},
   "source": [
    "---\n",
    "\n"
   ]
  },
  {
   "cell_type": "markdown",
   "id": "d070920e",
   "metadata": {},
   "source": [
    "## **Part II: Code Reading and Understanding – Basic Level (30 points)**\n",
    "\n",
    "Complete this section in your `.ipynb` notebook. Write your answers clearly in Markdown.\n",
    "\n",
    "Read the following code and answer the questions:\n",
    "\n",
    "```ts\n",
    "@Component({\n",
    "  selector: 'app-message',\n",
    "  template: `\n",
    "    <h2>{{ title }}</h2>\n",
    "    <p *ngIf=\"showMessage\">This is an important message.</p>\n",
    "    <button (click)=\"toggleMessage()\">Show/Hide</button>\n",
    "  `\n",
    "})\n",
    "export class MessageComponent {\n",
    "  title = 'Welcome';\n",
    "  showMessage = false;\n",
    "\n",
    "  toggleMessage() {\n",
    "    this.showMessage = !this.showMessage;\n",
    "  }\n",
    "}\n",
    "```\n",
    "\n"
   ]
  },
  {
   "cell_type": "markdown",
   "id": "2882bf0d",
   "metadata": {},
   "source": [
    "**1. What value is displayed in the `<h2>` title?**\n",
    "(5 points)\n",
    "\n"
   ]
  },
  {
   "cell_type": "markdown",
   "id": "43ca2fb3",
   "metadata": {},
   "source": [
    "Welcome"
   ]
  },
  {
   "cell_type": "markdown",
   "id": "aaa055fa",
   "metadata": {},
   "source": [
    "**2. What does the line `*ngIf=\"showMessage\"` do?**\n",
    "(5 points)\n",
    "\n"
   ]
  },
  {
   "cell_type": "markdown",
   "id": "f387c9a5",
   "metadata": {},
   "source": [
    "It is a function that allows you to show or hide a message"
   ]
  },
  {
   "cell_type": "markdown",
   "id": "6a634bdf",
   "metadata": {},
   "source": [
    "**3. What happens when the button is clicked? Explain.**\n",
    "(10 points)\n",
    "\n"
   ]
  },
  {
   "cell_type": "markdown",
   "id": "dcb1f5f5",
   "metadata": {},
   "source": [
    "Each button click toggles the visibility of the paragraph by flipping the showMessage boolean."
   ]
  },
  {
   "cell_type": "markdown",
   "id": "cf040280",
   "metadata": {},
   "source": [
    "**4. What is the name of the syntax used in `{{ title }}`?**\n",
    "(5 points)\n",
    "\n"
   ]
  },
  {
   "cell_type": "markdown",
   "id": "e85294e6",
   "metadata": {},
   "source": [
    "{{ title }} is called interpolation."
   ]
  },
  {
   "cell_type": "markdown",
   "id": "f4207aad",
   "metadata": {},
   "source": [
    "**5. What line would you change to show the message by default?**\n",
    "(5 points)\n",
    "\n"
   ]
  },
  {
   "cell_type": "markdown",
   "id": "092a6663",
   "metadata": {},
   "source": [
    "showMessage = true;"
   ]
  },
  {
   "cell_type": "markdown",
   "id": "a319d738",
   "metadata": {},
   "source": [
    "---\n",
    "\n"
   ]
  },
  {
   "cell_type": "markdown",
   "id": "90ab8f6b",
   "metadata": {},
   "source": [
    "## **Part III: Practical Exercise – Data Visualization with Plotly (30 points)**\n",
    "\n",
    "### Instructions:\n",
    "\n",
    "You must submit a **working Angular project compressed as a ZIP file**.\n",
    "This part must be completed outside the notebook.\n",
    "\n",
    "**Project Requirements:**\n",
    "\n",
    "1. Create a component named `data-visualizer`.\n",
    "2. Implement a service named `VisualizationService` that provides a list of `{ x: number, y: number }` data points.\n",
    "3. Display a **scatter plot** using Plotly.js.\n",
    "4. Include the following features:\n",
    "\n",
    "   * Axes must be labeled.\n",
    "   * If no data is available, display a message.\n",
    "   * A button must allow the user to reload the data.\n",
    "\n"
   ]
  },
  {
   "cell_type": "markdown",
   "id": "cafa789d",
   "metadata": {},
   "source": [
    "### Project Submission Requirements:\n",
    "\n",
    "* **Do not include the `node_modules` folder.**\n",
    "* The project must run with:\n",
    "\n",
    "  ```bash\n",
    "  npm install\n",
    "  ng serve\n",
    "  ```\n",
    "* The chart must render correctly in the browser.\n",
    "\n"
   ]
  },
  {
   "cell_type": "markdown",
   "id": "fdd47cc1",
   "metadata": {},
   "source": [
    "### Evaluation Criteria:\n",
    "\n",
    "| Criterion                                 | Score |\n",
    "| ----------------------------------------- | ----- |\n",
    "| Plotly.js correctly integrated            | 5     |\n",
    "| Scatter plot displays correct data        | 5     |\n",
    "| Axes labeled and plot configured properly | 5     |\n",
    "| Service returns data and is integrated    | 5     |\n",
    "| Reload button updates data                | 4     |\n",
    "| Message shown when no data is present     | 3     |\n",
    "| Code quality and structure                | 3     |\n"
   ]
  }
 ],
 "metadata": {
  "language_info": {
   "name": "python"
  }
 },
 "nbformat": 4,
 "nbformat_minor": 5
}
