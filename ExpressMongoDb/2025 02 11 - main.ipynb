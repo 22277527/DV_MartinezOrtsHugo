{
 "cells": [
  {
   "cell_type": "markdown",
   "metadata": {},
   "source": [
    "**Introduction to Express.js for Data Visualization**\n",
    "\n"
   ]
  },
  {
   "cell_type": "markdown",
   "metadata": {},
   "source": [
    "**Objective:**    \n",
    "Familiarize students with **Express.js**, its structure, and basic usage, preparing them to build an API that can serve data for visualization.\n",
    "\n"
   ]
  },
  {
   "cell_type": "markdown",
   "metadata": {},
   "source": [
    "**Part 1: Basic Concepts of Express.js**   \n"
   ]
  },
  {
   "cell_type": "markdown",
   "metadata": {},
   "source": [
    "1. **What is Express.js?**    \n",
    "   - A minimalist framework for Node.js\n",
    "   - Main use: creating web servers and APIs\n",
    "   - Comparison with other frameworks\n",
    "\n"
   ]
  },
  {
   "cell_type": "markdown",
   "metadata": {},
   "source": [
    "2. **Installation and First Server**    \n",
    "   - Requirements: Node.js and npm installed\n",
    "   - Installation command:  \n",
    "     ```sh\n",
    "     npm init -y\n",
    "     npm install express\n",
    "     ```\n",
    "   - Creating the first server with Express:\n",
    "     ```javascript\n",
    "     const express = require('express');\n",
    "     const app = express();\n",
    "\n",
    "     app.get('/', (req, res) => {\n",
    "         res.send('Hello, Express!');\n",
    "     });\n",
    "\n",
    "     app.listen(3000, () => {\n",
    "         console.log('Server running at http://localhost:3000');\n",
    "     });\n",
    "     ```\n",
    "\n"
   ]
  },
  {
   "cell_type": "markdown",
   "metadata": {},
   "source": [
    "3. **Middleware and Routes**    \n",
    "   - What is middleware?\n",
    "   - Creating basic routes (GET, POST)\n",
    "   - Example of middleware for logging:\n",
    "     ```javascript\n",
    "     app.use((req, res, next) => {\n",
    "         console.log(`Request ${req.method} on ${req.url}`);\n",
    "         next();\n",
    "     });\n",
    "     ```\n",
    "\n"
   ]
  },
  {
   "cell_type": "markdown",
   "metadata": {},
   "source": [
    "**Part 2: Creating an API for Data**   \n"
   ]
  },
  {
   "cell_type": "markdown",
   "metadata": {},
   "source": [
    "4. **Simulating Data**\n",
    "   - Creating a data array in a `data.js` file:\n",
    "     ```javascript\n",
    "     module.exports = [\n",
    "         { id: 1, name: \"Product A\", price: 10 },\n",
    "         { id: 2, name: \"Product B\", price: 20 },\n",
    "         { id: 3, name: \"Product C\", price: 30 },\n",
    "     ];\n",
    "     ```\n",
    "\n"
   ]
  },
  {
   "cell_type": "markdown",
   "metadata": {},
   "source": [
    "5. **Serving Data as JSON**   \n",
    "   - Creating a route to return data:\n",
    "     ```javascript\n",
    "     const data = require('./data');\n",
    "\n",
    "     app.get('/products', (req, res) => {\n",
    "         res.json(data);\n",
    "     });\n",
    "     ```\n",
    "\n"
   ]
  },
  {
   "cell_type": "markdown",
   "metadata": {},
   "source": [
    "6. **URL Parameters**   \n",
    "   - Fetching a product by `id`:\n",
    "     ```javascript\n",
    "     app.get('/products/:id', (req, res) => {\n",
    "         const product = data.find(p => p.id == req.params.id);\n",
    "         product ? res.json(product) : res.status(404).send('Not found');\n",
    "     });\n",
    "     ```\n",
    "\n"
   ]
  },
  {
   "cell_type": "markdown",
   "metadata": {},
   "source": [
    "**Part 3: Introduction to Data Visualization**   \n"
   ]
  },
  {
   "cell_type": "markdown",
   "metadata": {},
   "source": [
    "7. **Fetching Data in the Browser with Fetch**\n",
    "   - Explanation of `fetch` to retrieve API data:\n",
    "     ```javascript\n",
    "     fetch('http://localhost:3000/products')\n",
    "         .then(response => response.json())\n",
    "         .then(data => console.log(data));\n",
    "     ```\n",
    "\n"
   ]
  },
  {
   "cell_type": "markdown",
   "metadata": {},
   "source": [
    "8. **Displaying Data on a Web Page with JavaScript**    \n",
    "   - Creating an HTML file with a dynamic `<ul>` to display products.\n",
    "\n"
   ]
  },
  {
   "cell_type": "markdown",
   "metadata": {},
   "source": [
    "**Final Exercise**\n",
    "- Modify the API to add a new product using `POST`\n",
    "- Display the data in a chart using **Plotly** (this will be covered in more depth in another session)\n",
    "\n"
   ]
  },
  {
   "cell_type": "markdown",
   "metadata": {},
   "source": [
    "**Required Materials**  \n",
    "✅ Node.js installed  \n",
    "✅ Code editor (VS Code recommended)  \n",
    "✅ Web browser to test API requests  "
   ]
  },
  {
   "cell_type": "markdown",
   "metadata": {},
   "source": [
    "---\n",
    "---"
   ]
  },
  {
   "cell_type": "markdown",
   "metadata": {},
   "source": [
    "**Introduction to MongoDB with Express.js**\n",
    "\n"
   ]
  },
  {
   "cell_type": "markdown",
   "metadata": {},
   "source": [
    "**Objective:**    \n",
    "Familiarize students with **MongoDB**, its integration with **Express.js**, and data manipulation in a NoSQL database.    \n",
    "\n"
   ]
  },
  {
   "cell_type": "markdown",
   "metadata": {},
   "source": [
    "**1. Basic Concepts of MongoDB**       \n",
    "✅ **What is MongoDB?**  \n",
    "   - NoSQL database based on documents (JSON-like)  \n",
    "   - Comparison with SQL databases (relational vs. non-relational)  \n",
    "   - Collections and documents (equivalent to tables and rows)  \n",
    "\n",
    "✅ **Installation and Setup:**  \n",
    "   - **Option 1**: Use **MongoDB Atlas** (recommended)  \n",
    "   - **Option 2**: Install **MongoDB locally**  \n",
    "\n",
    "✅ **Connecting to MongoDB using Mongoose**  \n",
    "   - Install the library:  \n",
    "     ```sh\n",
    "     npm install mongoose\n",
    "     ```\n",
    "   - Connect to MongoDB Atlas or locally:\n",
    "     ```javascript\n",
    "     const mongoose = require('mongoose');\n",
    "\n",
    "     mongoose.connect('mongodb://localhost:27017/myDatabase', {\n",
    "         useNewUrlParser: true,\n",
    "         useUnifiedTopology: true\n",
    "     })\n",
    "     .then(() => console.log(\"Connected to MongoDB\"))\n",
    "     .catch(err => console.error(\"Connection error\", err));\n",
    "     ```\n",
    "\n"
   ]
  },
  {
   "cell_type": "markdown",
   "metadata": {},
   "source": [
    "**2. Creating a Model and Schema in Mongoose**     \n",
    "✅ **Define a model for \"Products\"**  \n",
    "   ```javascript\n",
    "   const mongoose = require('mongoose');\n",
    "\n",
    "   const productSchema = new mongoose.Schema({\n",
    "       name: String,\n",
    "       price: Number\n",
    "   });\n",
    "\n",
    "   const Product = mongoose.model('Product', productSchema);\n",
    "   ```\n",
    "\n",
    "✅ **Save a product to the database**  \n",
    "   ```javascript\n",
    "   const newProduct = new Product({ name: \"Laptop\", price: 1200 });\n",
    "\n",
    "   newProduct.save()\n",
    "       .then(() => console.log(\"Product saved\"))\n",
    "       .catch(err => console.error(\"Error saving product\", err));\n",
    "   ```\n",
    "\n"
   ]
  },
  {
   "cell_type": "markdown",
   "metadata": {},
   "source": [
    "**3. Creating a REST API with Express.js and MongoDB**      \n",
    "✅ **Retrieve all products**  \n",
    "   ```javascript\n",
    "   app.get('/products', async (req, res) => {\n",
    "       const products = await Product.find();\n",
    "       res.json(products);\n",
    "   });\n",
    "   ```\n",
    "\n",
    "✅ **Add a new product (POST)**  \n",
    "   ```javascript\n",
    "   app.use(express.json()); // Middleware to process JSON\n",
    "\n",
    "   app.post('/products', async (req, res) => {\n",
    "       const product = new Product(req.body);\n",
    "       await product.save();\n",
    "       res.json(product);\n",
    "   });\n",
    "   ```\n",
    "\n",
    "✅ **Retrieve a product by ID**  \n",
    "   ```javascript\n",
    "   app.get('/products/:id', async (req, res) => {\n",
    "       const product = await Product.findById(req.params.id);\n",
    "       product ? res.json(product) : res.status(404).send(\"Not found\");\n",
    "   });\n",
    "   ```\n",
    "\n"
   ]
  },
  {
   "cell_type": "markdown",
   "metadata": {},
   "source": [
    "**4. Testing with Postman or Fetch in the Browser**      \n",
    "✅ **Use Postman or Fetch to test the API**  \n",
    "   ```javascript\n",
    "   fetch('http://localhost:3000/products')\n",
    "       .then(response => response.json())\n",
    "       .then(data => console.log(data));\n",
    "   ```\n",
    "\n",
    "✅ **Verify data in MongoDB (using Compass or Mongo Shell)**  \n",
    "   ```sh\n",
    "   show dbs\n",
    "   use myDatabase\n",
    "   db.products.find()\n",
    "   ```\n",
    "\n"
   ]
  },
  {
   "cell_type": "markdown",
   "metadata": {},
   "source": [
    "**Final Exercise**\n",
    "- **Update a product using `PUT`**  \n",
    "- **Delete a product using `DELETE`**  \n",
    "- **Add an additional field to the schema (e.g., stock, category, etc.)**  \n",
    "\n"
   ]
  },
  {
   "cell_type": "markdown",
   "metadata": {},
   "source": [
    "**Required Materials**      \n",
    "✅ Node.js installed  \n",
    "✅ MongoDB Atlas or Local MongoDB  \n",
    "✅ Postman (optional)  \n",
    "✅ Base code in Express.js"
   ]
  }
 ],
 "metadata": {
  "language_info": {
   "name": "python"
  }
 },
 "nbformat": 4,
 "nbformat_minor": 2
}
