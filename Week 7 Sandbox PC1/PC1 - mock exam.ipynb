{
 "cells": [
  {
   "cell_type": "markdown",
   "metadata": {},
   "source": [
    "# **PC1 (Mock exam) - JavaScript Basics and Data Visualization**  \n",
    "**Duration:** 2 hours  \n",
    "**Instructions:**  \n",
    "- Complete the exercises in **Jupyter Notebook** using the **JavaScript (Node.js Kernel)**.  \n",
    "- Execute your code to verify its correctness.  \n",
    "- You may refer to your printed notes.  \n",
    "- Each question is worth **1 point** for a total of **10 points**.  "
   ]
  },
  {
   "cell_type": "markdown",
   "metadata": {},
   "source": [
    "### **Question 1: Operators and Conditions**  \n",
    "Write a function called `isAdult(age)` that receives a number and returns `\"Adult\"` if the person is **18 years or older**, and `\"Minor\"` otherwise.  \n",
    "\n"
   ]
  },
  {
   "cell_type": "code",
   "execution_count": 1,
   "metadata": {},
   "outputs": [
    {
     "name": "stdout",
     "output_type": "stream",
     "text": [
      "Hola\n"
     ]
    },
    {
     "data": {
      "text/plain": [
       "undefined"
      ]
     },
     "execution_count": 1,
     "metadata": {},
     "output_type": "execute_result"
    }
   ],
   "source": [
    "console.log(\"Hola\")"
   ]
  },
  {
   "cell_type": "code",
   "execution_count": 2,
   "metadata": {},
   "outputs": [
    {
     "name": "stdout",
     "output_type": "stream",
     "text": [
      "Minor\n"
     ]
    },
    {
     "data": {
      "text/plain": [
       "undefined"
      ]
     },
     "execution_count": 2,
     "metadata": {},
     "output_type": "execute_result"
    }
   ],
   "source": [
    "let age = 18;\n",
    "\n",
    "function isAdult(age) {\n",
    "    if (age > 18){\n",
    "        console.log(\"Adult\");\n",
    "    } else{\n",
    "        console.log(\"Minor\");\n",
    "    }\n",
    "}\n",
    "isAdult(age)\n"
   ]
  },
  {
   "cell_type": "markdown",
   "metadata": {},
   "source": [
    "### **Question 2: Arrays and Basic Methods**  \n",
    "Given the following array of numbers, perform the following operations:  \n",
    "1. Add the number `100` to the **end** of the array.  \n",
    "2. Remove the **first** element from the array.  \n",
    "3. Print the final array to the console.  "
   ]
  },
  {
   "cell_type": "code",
   "execution_count": 3,
   "metadata": {},
   "outputs": [
    {
     "name": "stdout",
     "output_type": "stream",
     "text": [
      "Final array [ 20, 30, 40, 50, 100 ]\n"
     ]
    },
    {
     "data": {
      "text/plain": [
       "undefined"
      ]
     },
     "execution_count": 3,
     "metadata": {},
     "output_type": "execute_result"
    }
   ],
   "source": [
    "let numbers = [10, 20, 30, 40, 50];\n",
    "\n",
    "// Write your code here:\n",
    "numbers.push(100);\n",
    "numbers.shift(); \n",
    "console.log(\"Final array\", numbers)"
   ]
  },
  {
   "cell_type": "markdown",
   "metadata": {},
   "source": [
    "### **Question 3: Function to Count Characters**  \n",
    "Write a function called `countCharacters(text)` that takes a string and returns the number of characters it contains.  "
   ]
  },
  {
   "cell_type": "code",
   "execution_count": 8,
   "metadata": {},
   "outputs": [
    {
     "name": "stdout",
     "output_type": "stream",
     "text": [
      "11\n"
     ]
    },
    {
     "data": {
      "text/plain": [
       "undefined"
      ]
     },
     "execution_count": 8,
     "metadata": {},
     "output_type": "execute_result"
    }
   ],
   "source": [
    "let text = \"Hola mundo2\"\n",
    "function countCharacters(text){\n",
    "    \n",
    "     return text.length;\n",
    "}\n",
    "console.log(countCharacters(text))"
   ]
  },
  {
   "cell_type": "markdown",
   "metadata": {},
   "source": [
    "### **Question 4: Using an Object**  \n",
    "Given the following student object, **modify** the `age` property to `22 years` and **add** a new property `course: \"Data Visualization\"`.  \n",
    "\n"
   ]
  },
  {
   "cell_type": "code",
   "execution_count": 9,
   "metadata": {},
   "outputs": [
    {
     "name": "stdout",
     "output_type": "stream",
     "text": [
      "Student after: {\n",
      "  name: 'John',\n",
      "  age: 22,\n",
      "  major: 'Computer Science',\n",
      "  course: 'Data Visualization'\n",
      "}\n"
     ]
    },
    {
     "data": {
      "text/plain": [
       "undefined"
      ]
     },
     "execution_count": 9,
     "metadata": {},
     "output_type": "execute_result"
    }
   ],
   "source": [
    "let student = {\n",
    "    name: \"John\",\n",
    "    age: 20,\n",
    "    major: \"Computer Science\"\n",
    "};\n",
    "\n",
    "// Write your code here:\n",
    "student.age = 22;\n",
    "student.course = \"Data Visualization\";\n",
    "console.log(\"Student after:\", student);"
   ]
  },
  {
   "cell_type": "markdown",
   "metadata": {},
   "source": [
    "### **Question 5: Function with Arrays**  \n",
    "Create a function called `squareNumbers(numbers)` that receives an array of numbers and returns a new array where each number is squared.  \n",
    "\n"
   ]
  },
  {
   "cell_type": "code",
   "execution_count": 10,
   "metadata": {},
   "outputs": [
    {
     "name": "stdout",
     "output_type": "stream",
     "text": [
      "[ 100, 400, 900, 1600, 2500 ]\n"
     ]
    },
    {
     "data": {
      "text/plain": [
       "undefined"
      ]
     },
     "execution_count": 10,
     "metadata": {},
     "output_type": "execute_result"
    }
   ],
   "source": [
    "// Write your code here:\n",
    "let array = [10, 20, 30, 40, 50];\n",
    "function squareNumbers(array){\n",
    "    return array.map(num => num ** 2);\n",
    "}\n",
    "console.log(squareNumbers(array));"
   ]
  },
  {
   "cell_type": "markdown",
   "metadata": {},
   "source": [
    "### **Question 6: Working with a Set**  \n",
    "1. Create a **Set** with the values `[1, 2, 2, 3, 4, 4, 5]`.  \n",
    "2. Add the number `6` to the Set.  \n",
    "3. Remove the number `2`.  \n",
    "4. Print the resulting Set.  "
   ]
  },
  {
   "cell_type": "code",
   "execution_count": 11,
   "metadata": {},
   "outputs": [
    {
     "name": "stdout",
     "output_type": "stream",
     "text": [
      "Set of unique numbers: Set(5) { 1, 2, 3, 4, 5 }\n",
      "After modifications: Set(5) { 1, 3, 4, 5, 6 }\n"
     ]
    },
    {
     "data": {
      "text/plain": [
       "undefined"
      ]
     },
     "execution_count": 11,
     "metadata": {},
     "output_type": "execute_result"
    }
   ],
   "source": [
    "// Write your code here:\n",
    "let numbers3 = new Set([1, 2, 2, 3, 4, 4, 5]);\n",
    "console.log(\"Set of unique numbers:\", numbers3);\n",
    "\n",
    "// Add and remove elements\n",
    "numbers3.add(6);\n",
    "numbers3.delete(2);\n",
    "console.log(\"After modifications:\", numbers3);"
   ]
  },
  {
   "cell_type": "markdown",
   "metadata": {},
   "source": [
    "### **Question 7: Importing and Using a Module**  \n",
    "Create a module named **\"statistics.js\"** that exports two functions:  \n",
    "- `mean(arr)`: Calculates the average of an array.  \n",
    "- `standardDeviation(arr)`: Calculates the standard deviation of an array.  \n",
    "\n",
    "Then, import the module into another file and use it with the array `[10, 20, 30, 40, 50]`.  \n",
    "\n"
   ]
  },
  {
   "cell_type": "code",
   "execution_count": 12,
   "metadata": {},
   "outputs": [
    {
     "name": "stdout",
     "output_type": "stream",
     "text": [
      "[ 10, 20, 30, 40, 50 ]\n",
      "30\n",
      "14.142135623730951\n"
     ]
    },
    {
     "data": {
      "text/plain": [
       "undefined"
      ]
     },
     "execution_count": 12,
     "metadata": {},
     "output_type": "execute_result"
    }
   ],
   "source": [
    "// Write your code here:\n",
    "\n",
    "let arr = [10, 20, 30, 40, 50]\n",
    "function mean(arr) {\n",
    "    return arr.reduce((a, b) => a + b, 0) / arr.length;\n",
    "}\n",
    "\n",
    "function standardDeviation(arr) {\n",
    "    let m = mean(arr);\n",
    "    let variance = arr.map(x => (x - m) ** 2);\n",
    "    return Math.sqrt(mean(variance));\n",
    "}\n",
    "\n",
    "module.exports = { mean, standardDeviation };\n",
    "console.log(arr)\n",
    "console.log(mean(arr));\n",
    "console.log(standardDeviation(arr));"
   ]
  },
  {
   "cell_type": "markdown",
   "metadata": {},
   "source": [
    "### **Question 8: Queue (FIFO) Implementation**  \n",
    "Implement a class `Queue` with the following methods:  \n",
    "- `enqueue(element)`: Adds an element to the queue.  \n",
    "- `dequeue()`: Removes and returns the first element of the queue.  \n",
    "- `front()`: Returns the first element without removing it.  \n",
    "- `isEmpty()`: Returns `true` if the queue is empty, `false` otherwise.  \n",
    "\n"
   ]
  },
  {
   "cell_type": "code",
   "execution_count": 14,
   "metadata": {},
   "outputs": [
    {
     "data": {
      "text/plain": [
       "undefined"
      ]
     },
     "execution_count": 14,
     "metadata": {},
     "output_type": "execute_result"
    }
   ],
   "source": [
    "// Write your code here:\n",
    "class Queue {\n",
    "    constructor() {\n",
    "        this.items = [];\n",
    "    }\n",
    "\n",
    "    // Add an element to the queue (enqueue)\n",
    "    enqueue(element) {\n",
    "        this.items.push(element);\n",
    "    }\n",
    "\n",
    "    // Remove and return the first element (dequeue)\n",
    "    dequeue() {\n",
    "        if (this.isEmpty()) {\n",
    "            return \"Queue is empty\";\n",
    "        }\n",
    "        return this.items.shift();\n",
    "    }\n",
    "\n",
    "    // View the first element without removing it\n",
    "    front() {\n",
    "        return this.isEmpty() ? \"Queue is empty\" : this.items[0];\n",
    "    }\n",
    "\n",
    "    // Check if the queue is empty\n",
    "    isEmpty() {\n",
    "        return this.items.length === 0;\n",
    "    }\n",
    "}"
   ]
  },
  {
   "cell_type": "markdown",
   "metadata": {},
   "source": [
    "### **Question 9: Data Visualization (Bar Chart with Plotly)**  \n",
    "Use **ijavascript-plotly** to create a bar chart with the following data:  \n",
    "- Categories: `[\"January\", \"February\", \"March\", \"April\"]`  \n",
    "- Values: `[40, 60, 80, 100]`  "
   ]
  },
  {
   "cell_type": "code",
   "execution_count": 13,
   "metadata": {},
   "outputs": [
    {
     "data": {
      "application/vnd.plotly.v1+json": {
       "data": [
        {
         "marker": {
          "color": "blue"
         },
         "type": "bar",
         "x": [
          "January",
          "February",
          "March",
          "April"
         ],
         "y": [
          40,
          60,
          80,
          100
         ]
        }
       ],
       "layout": {
        "title": "Bar Chart using iJavaScript-Plotly",
        "xaxis": {
         "title": "Categories"
        },
        "yaxis": {
         "title": "Values"
        }
       }
      }
     },
     "execution_count": 13,
     "metadata": {},
     "output_type": "execute_result"
    }
   ],
   "source": [
    "const plotly = require(\"ijavascript-plotly\");\n",
    "\n",
    "// Write your code here:\n",
    "// Function to create and display a bar chart\n",
    "function barChart(labels, values) {\n",
    "    let trace = {\n",
    "        x: labels,\n",
    "        y: values,\n",
    "        type: \"bar\",\n",
    "        marker: { color: \"blue\" }\n",
    "    };\n",
    "\n",
    "    let layout = {\n",
    "        title: \"Bar Chart using iJavaScript-Plotly\",\n",
    "        xaxis: { title: \"Categories\" },\n",
    "        yaxis: { title: \"Values\" }\n",
    "    };\n",
    "\n",
    "    // Display the chart in Jupyter Notebook\n",
    "    plotly([trace], layout);\n",
    "}\n",
    "\n",
    "// Example usage\n",
    "let labels = [\"January\", \"February\", \"March\", \"April\"];\n",
    "let values = [40, 60, 80, 100];\n",
    "\n",
    "barChart(labels, values);"
   ]
  },
  {
   "cell_type": "markdown",
   "metadata": {},
   "source": [
    "### **Question 10: Time Series Analysis with `date-fns`**  \n",
    "1. Get the current date in the format `\"YYYY-MM-DD\"`.  \n",
    "2. Calculate the date **10 days after** the current date.  \n",
    "3. Print both dates to the console.  \n",
    "\n"
   ]
  },
  {
   "cell_type": "code",
   "execution_count": 15,
   "metadata": {},
   "outputs": [
    {
     "name": "stdout",
     "output_type": "stream",
     "text": [
      "Today: 2025-03-10\n",
      "In 10 days: 2025-03-20\n"
     ]
    },
    {
     "data": {
      "text/plain": [
       "undefined"
      ]
     },
     "execution_count": 15,
     "metadata": {},
     "output_type": "execute_result"
    }
   ],
   "source": [
    "const { format, addDays } = require(\"date-fns\");\n",
    "\n",
    "// Write your code here:\n",
    "let date = new Date();\n",
    "console.log(\"Today:\", format(date, \"yyyy-MM-dd\"));\n",
    "console.log(\"In 10 days:\", format(addDays(date, 10), \"yyyy-MM-dd\"));"
   ]
  },
  {
   "cell_type": "markdown",
   "metadata": {},
   "source": [
    "## **Final Considerations**  \n",
    "- Each exercise must be executed in **Jupyter Notebook** using the **JavaScript (Node.js Kernel)**.  \n",
    "- Students may refer to their **printed notes**.  \n",
    "- Graphs and visualizations must be generated within the **Notebook**.  \n",
    "- The evaluation criteria include **correct implementation, syntax, and functionality**.  "
   ]
  }
 ],
 "metadata": {
  "kernelspec": {
   "display_name": "JavaScript (Node.js)",
   "language": "javascript",
   "name": "javascript"
  },
  "language_info": {
   "file_extension": ".js",
   "mimetype": "application/javascript",
   "name": "javascript",
   "version": "18.20.7"
  }
 },
 "nbformat": 4,
 "nbformat_minor": 2
}
