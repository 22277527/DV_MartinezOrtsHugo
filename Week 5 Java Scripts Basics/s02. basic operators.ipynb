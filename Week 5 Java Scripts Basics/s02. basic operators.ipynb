{
 "cells": [
  {
   "cell_type": "markdown",
   "metadata": {},
   "source": [
    "# Session 2: Introduction to basic operators in JavaScript\n",
    "\n",
    "Operators in JavaScript allow performing various operations on values and variables. In this notebook, we will explore **arithmetic, comparison, and logical operators**, with practical examples.\n",
    "\n"
   ]
  },
  {
   "cell_type": "markdown",
   "metadata": {},
   "source": [
    "## 1. Arithmetic Operators\n",
    "\n",
    "Arithmetic operators allow performing mathematical calculations in JavaScript.\n",
    "\n",
    "| Operator | Description | Example |\n",
    "|----------|------------|---------|\n",
    "| `+` | Addition | `5 + 3` → `8` |\n",
    "| `-` | Subtraction | `10 - 4` → `6` |\n",
    "| `*` | Multiplication | `6 * 3` → `18` |\n",
    "| `/` | Division | `12 / 4` → `3` |\n",
    "| `%` | Modulus (remainder of division) | `10 % 3` → `1` |\n",
    "| `**` | Exponent (power) | `2 ** 3` → `8` |\n",
    "\n"
   ]
  },
  {
   "cell_type": "markdown",
   "metadata": {},
   "source": [
    "### 🔹 Example of arithmetic operators in JavaScript:\n",
    "\n"
   ]
  },
  {
   "cell_type": "code",
   "execution_count": null,
   "metadata": {},
   "outputs": [],
   "source": [
    "let a = 10;\n",
    "let b = 3;\n",
    "\n",
    "console.log(\"Addition:\", a + b);         // 13\n",
    "console.log(\"Subtraction:\", a - b);      // 7\n",
    "console.log(\"Multiplication:\", a * b);   // 30\n",
    "console.log(\"Division:\", a / b);         // 3.3333\n",
    "console.log(\"Modulus:\", a % b);          // 1\n",
    "console.log(\"Exponentiation:\", a ** b);  // 1000"
   ]
  },
  {
   "cell_type": "markdown",
   "metadata": {},
   "source": [
    "## 2. Comparison Operators\n",
    "\n",
    "Comparison operators compare two values and return a **boolean** result (`true` or `false`).\n",
    "\n",
    "| Operator | Description | Example |\n",
    "|----------|------------|---------|\n",
    "| `==`  | Equal (without type comparison) | `\"5\" == 5` → `true` |\n",
    "| `===` | Strictly equal (compares type and value) | `\"5\" === 5` → `false` |\n",
    "| `!=`  | Not equal (without type comparison) | `\"5\" != 5` → `false` |\n",
    "| `!==` | Strictly not equal (compares type and value) | `\"5\" !== 5` → `true` |\n",
    "| `>`   | Greater than | `8 > 5` → `true` |\n",
    "| `<`   | Less than | `3 < 6` → `true` |\n",
    "| `>=`  | Greater than or equal to | `7 >= 7` → `true` |\n",
    "| `<=`  | Less than or equal to | `4 <= 2` → `false` |\n",
    "\n"
   ]
  },
  {
   "cell_type": "markdown",
   "metadata": {},
   "source": [
    "### 🔹 Example of comparison operators in JavaScript:"
   ]
  },
  {
   "cell_type": "code",
   "execution_count": null,
   "metadata": {},
   "outputs": [],
   "source": [
    "let x = 5;\n",
    "let y = \"5\";\n",
    "\n",
    "console.log(\"Equality (==):\", x == y);   // true\n",
    "console.log(\"Strict equality (===):\", x === y); // false\n",
    "console.log(\"Not equal (!=):\", x != y);   // false\n",
    "console.log(\"Strictly not equal (!==):\", x !== y); // true\n",
    "console.log(\"Greater than (>):\", x > 3);    // true\n",
    "console.log(\"Less than (<):\", x < 10);   // true\n",
    "console.log(\"Greater than or equal to (>=):\", x >= 5); // true\n",
    "console.log(\"Less than or equal to (<=):\", x <= 4); // false"
   ]
  },
  {
   "cell_type": "markdown",
   "metadata": {},
   "source": [
    "### ⚠️ Difference between `==` and `===`\n",
    "\n"
   ]
  },
  {
   "cell_type": "code",
   "execution_count": null,
   "metadata": {},
   "outputs": [],
   "source": [
    "console.log(5 == \"5\");  // true (compares only value)\n",
    "console.log(5 === \"5\"); // false (compares value and type)"
   ]
  },
  {
   "cell_type": "markdown",
   "metadata": {},
   "source": [
    "The `==` operator converts both values to the same type before comparing them, while `===` **also compares the data type**.\n",
    "\n"
   ]
  },
  {
   "cell_type": "markdown",
   "metadata": {},
   "source": [
    "## 3. Logical Operators\n",
    "\n",
    "Logical operators are used to combine **boolean expressions**.\n",
    "\n",
    "| Operator | Description | Example |\n",
    "|----------|------------|---------|\n",
    "| `&&` | AND (logical AND) | `true && false` → `false` |\n",
    "| `\\|\\|` | OR (logical OR) | `true` `\\|\\|` `false` → `true` |\n",
    "| `!`  | NOT (negation) | `!true` → `false`\n",
    "\n"
   ]
  },
  {
   "cell_type": "markdown",
   "metadata": {},
   "source": [
    "### 🔹 Example of logical operators in JavaScript:\n",
    "\n"
   ]
  },
  {
   "cell_type": "code",
   "execution_count": null,
   "metadata": {},
   "outputs": [],
   "source": [
    "let a = true;\n",
    "let b = false;\n",
    "\n",
    "console.log(\"AND (&&):\", a && b);  // false\n",
    "console.log(\"OR (||):\", a || b);   // true\n",
    "console.log(\"NOT (!):\", !a);       // false"
   ]
  },
  {
   "cell_type": "markdown",
   "metadata": {},
   "source": [
    "## 4. Combining Operators\n",
    "\n",
    "Operators can be combined to create more complex expressions.\n",
    "\n"
   ]
  },
  {
   "cell_type": "code",
   "execution_count": null,
   "metadata": {},
   "outputs": [],
   "source": [
    "let age = 20;\n",
    "let hasLicense = true;\n",
    "\n",
    "if (age >= 18 && hasLicense) {\n",
    "    console.log(\"You can drive 🚗\");\n",
    "} else {\n",
    "    console.log(\"You cannot drive ❌\");\n",
    "}"
   ]
  },
  {
   "cell_type": "markdown",
   "metadata": {},
   "source": [
    "In this example:\n",
    "- If **age is 18 or older** **and** `hasLicense` is `true`, it prints `\"You can drive 🚗\"`.\n",
    "- If any condition is not met, it prints `\"You cannot drive ❌\"`.\n",
    "\n"
   ]
  },
  {
   "cell_type": "markdown",
   "metadata": {},
   "source": [
    "## 5. Short-Circuit Evaluation\n",
    "\n",
    "In JavaScript, the `&&` and `||` operators can be used for **short-circuit evaluation**."
   ]
  },
  {
   "cell_type": "code",
   "execution_count": null,
   "metadata": {},
   "outputs": [],
   "source": [
    "console.log(\"Short-circuit AND:\", false && \"Hello\"); // false\n",
    "console.log(\"Short-circuit OR:\", true || \"Hello\");   // true"
   ]
  },
  {
   "cell_type": "markdown",
   "metadata": {},
   "source": [
    "- **`&&` (AND)**: If the first expression is `false`, **it does not evaluate the second**.\n",
    "- **`||` (OR)**: If the first expression is `true`, **it does not evaluate the second**.\n",
    "\n",
    "Practical example:\n",
    "\n"
   ]
  },
  {
   "cell_type": "code",
   "execution_count": null,
   "metadata": {},
   "outputs": [],
   "source": [
    "let user = null;\n",
    "console.log(\"User:\", user || \"Guest\"); // \"Guest\""
   ]
  },
  {
   "cell_type": "markdown",
   "metadata": {},
   "source": [
    "Here, if `user` is `null` or `undefined`, it assigns `\"Guest\"`.\n",
    "\n"
   ]
  },
  {
   "cell_type": "markdown",
   "metadata": {},
   "source": [
    "## 6. Increment and Decrement\n",
    "\n",
    "In JavaScript, `++` and `--` are used to increment or decrement values."
   ]
  },
  {
   "cell_type": "code",
   "execution_count": null,
   "metadata": {},
   "outputs": [],
   "source": [
    "let num = 5;\n",
    "\n",
    "console.log(\"Post-increment:\", num++); // 5\n",
    "console.log(\"After post-increment:\", num); // 6\n",
    "\n",
    "num = 5;\n",
    "console.log(\"Pre-increment:\", ++num); // 6"
   ]
  },
  {
   "cell_type": "markdown",
   "metadata": {},
   "source": [
    "| Operator | Description | Example |\n",
    "|----------|------------|---------|\n",
    "| `x++` | Post-increment (returns the original value and then increments) | `let x = 5; console.log(x++);` → `5`, `x` is now `6` |\n",
    "| `++x` | Pre-increment (increments before returning the value) | `let x = 5; console.log(++x);` → `6` |\n",
    "\n"
   ]
  },
  {
   "cell_type": "markdown",
   "metadata": {},
   "source": [
    "## 7. Conclusion\n",
    "\n",
    "- **Arithmetic operators** allow performing mathematical calculations.\n",
    "- **Comparison operators** compare values and return `true` or `false`.\n",
    "- **Logical operators** combine boolean expressions.\n",
    "- **Short-circuit evaluation** can optimize code.\n",
    "- **Increment and decrement operators** affect variables in a special way."
   ]
  }
 ],
 "metadata": {
  "kernelspec": {
   "display_name": "JavaScript (Node.js)",
   "language": "javascript",
   "name": "javascript"
  },
  "language_info": {
   "file_extension": ".js",
   "mimetype": "application/javascript",
   "name": "javascript",
   "version": "18.20.7"
  }
 },
 "nbformat": 4,
 "nbformat_minor": 4
}
