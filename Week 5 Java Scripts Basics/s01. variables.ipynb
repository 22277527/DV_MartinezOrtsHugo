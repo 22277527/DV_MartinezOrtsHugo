{
 "cells": [
  {
   "cell_type": "markdown",
   "metadata": {},
   "source": [
    "# Session 1: Variables and data types in JavaScript\n",
    "\n",
    "In this session, we will learn about **variables** and the different **data types** in **JavaScript**.\n",
    "\n"
   ]
  },
  {
   "cell_type": "code",
   "execution_count": 1,
   "metadata": {},
   "outputs": [
    {
     "name": "stdout",
     "output_type": "stream",
     "text": [
      "Hola mundo!\n"
     ]
    },
    {
     "data": {
      "text/plain": [
       "undefined"
      ]
     },
     "execution_count": 1,
     "metadata": {},
     "output_type": "execute_result"
    }
   ],
   "source": [
    "console.log(\"Hola mundo!\")"
   ]
  },
  {
   "cell_type": "code",
   "execution_count": 2,
   "metadata": {},
   "outputs": [
    {
     "name": "stdout",
     "output_type": "stream",
     "text": [
      "[\n",
      "  'global',          'queueMicrotask',\n",
      "  'clearImmediate',  'setImmediate',\n",
      "  'structuredClone', 'clearInterval',\n",
      "  'clearTimeout',    'setInterval',\n",
      "  'setTimeout',      'atob',\n",
      "  'btoa',            'performance',\n",
      "  'fetch',           '__filename',\n",
      "  'module',          'exports',\n",
      "  '__dirname',       'require',\n",
      "  '$$mimer$$',       '$$done$$',\n",
      "  'console',         '$$'\n",
      "]\n"
     ]
    },
    {
     "data": {
      "text/plain": [
       "undefined"
      ]
     },
     "execution_count": 2,
     "metadata": {},
     "output_type": "execute_result"
    }
   ],
   "source": [
    "// Display all global variable names in the `globalThis` object\n",
    "console.log(Object.keys(globalThis));"
   ]
  },
  {
   "cell_type": "markdown",
   "metadata": {},
   "source": [
    "## 1. Declaring Variables\n",
    "\n",
    "In JavaScript, variables can be declared using:\n",
    "- `var` (old method, not recommended)\n",
    "- `let` (for values that can change)\n",
    "- `const` (for constant values)\n"
   ]
  },
  {
   "cell_type": "code",
   "execution_count": null,
   "metadata": {},
   "outputs": [],
   "source": [
    "var name = \"Carlos\";  // Not recommended\n",
    "let age = 25;         // Can change\n",
    "const PI = 3.1416;    // Cannot change"
   ]
  },
  {
   "cell_type": "code",
   "execution_count": 3,
   "metadata": {},
   "outputs": [
    {
     "data": {
      "text/plain": [
       "undefined"
      ]
     },
     "execution_count": 3,
     "metadata": {},
     "output_type": "execute_result"
    }
   ],
   "source": [
    "{\n",
    "    var name = \"Carlos\";  // Not recommended\n",
    "    let age = 25;         // Can change\n",
    "    const PI = 3.1416;    // Cannot change\n",
    "}\n"
   ]
  },
  {
   "cell_type": "code",
   "execution_count": 12,
   "metadata": {},
   "outputs": [
    {
     "name": "stdout",
     "output_type": "stream",
     "text": [
      "Alex\n"
     ]
    }
   ],
   "source": [
    "// Declaring a variable with `var` inside a block (not recommended) \n",
    "// because `var` is function-scoped, not block-scoped.\n",
    "{\n",
    "    var name = \"Alex\";  // ❌ Not recommended\n",
    "}\n",
    "\n",
    "console.log(name)"
   ]
  },
  {
   "cell_type": "code",
   "execution_count": 14,
   "metadata": {},
   "outputs": [
    {
     "name": "stdout",
     "output_type": "stream",
     "text": [
      "[\n",
      "  'global',          'clearImmediate',\n",
      "  'setImmediate',    'clearInterval',\n",
      "  'clearTimeout',    'setInterval',\n",
      "  'setTimeout',      'queueMicrotask',\n",
      "  'structuredClone', 'atob',\n",
      "  'btoa',            'performance',\n",
      "  'fetch',           'crypto',\n",
      "  '__filename',      'module',\n",
      "  'exports',         '__dirname',\n",
      "  'require',         '$$mimer$$',\n",
      "  '$$done$$',        'name',\n",
      "  'nombre',          'console',\n",
      "  '$$'\n",
      "]\n"
     ]
    }
   ],
   "source": [
    "// Assigning a new value to `nombre` (which was not declared properly).\n",
    "// This creates a global variable, which is not a good practice.\n",
    "nombre = \"Carlos\";  // ❌ Avoid using undeclared variables\n",
    "console.log(Object.keys(globalThis));"
   ]
  },
  {
   "cell_type": "code",
   "execution_count": 15,
   "metadata": {},
   "outputs": [
    {
     "name": "stdout",
     "output_type": "stream",
     "text": [
      "{ name: 'Carlos', age: 25, PI: 3.1416 }\n"
     ]
    }
   ],
   "source": [
    "// Ensuring that `myVars` exists in `globalThis`\n",
    "// This object will store manually tracked variables\n",
    "globalThis.myVars = globalThis.myVars || {};\n",
    "\n",
    "// Storing variables manually in `myVars`\n",
    "// This allows tracking variables declared with `let` and `const`\n",
    "myVars.name = \"Carlos\";\n",
    "myVars.age = 25;\n",
    "myVars.PI = 3.1416;\n",
    "\n",
    "// Display all manually stored variables\n",
    "console.log(myVars);"
   ]
  },
  {
   "cell_type": "markdown",
   "metadata": {},
   "source": [
    "\n",
    "The best practice is to use **`let` and `const`**, since `var` can cause issues in the code.\n",
    "\n"
   ]
  },
  {
   "cell_type": "code",
   "execution_count": 2,
   "metadata": {},
   "outputs": [
    {
     "name": "stdout",
     "output_type": "stream",
     "text": [
      "Barcelona Spain\n"
     ]
    }
   ],
   "source": [
    "// ✅ Best Practice: Use `let` and `const` instead of `var`\n",
    "// because `var` can cause scope-related issues.\n",
    "\n",
    "let city = \"Madrid\";  // `let` allows reassignment\n",
    "city = \"Barcelona\";   // ✅ Can be changed\n",
    "\n",
    "const country = \"Spain\"; // `const` is used for values that should not change\n",
    "//country = \"France\";  // ❌ This will throw an error because `const` cannot be reassigned\n",
    "\n",
    "// Displaying the final values\n",
    "console.log(city, country);\n"
   ]
  },
  {
   "cell_type": "markdown",
   "metadata": {},
   "source": [
    "## 2. Data Types in JavaScript\n",
    "\n",
    "The main data types in **JavaScript** are:\n",
    "\n",
    "### a) **Strings (Text)**\n",
    "\n"
   ]
  },
  {
   "cell_type": "code",
   "execution_count": 3,
   "metadata": {},
   "outputs": [
    {
     "name": "stdout",
     "output_type": "stream",
     "text": [
      "Hello, world! JavaScript is awesome\n"
     ]
    }
   ],
   "source": [
    "let greeting = \"Hello, world!\";\n",
    "let message = 'JavaScript is awesome';\n",
    "console.log(greeting, message);"
   ]
  },
  {
   "cell_type": "markdown",
   "metadata": {},
   "source": [
    "Strings can be concatenated using **concatenation** or **template literals**:\n",
    "\n"
   ]
  },
  {
   "cell_type": "code",
   "execution_count": 4,
   "metadata": {},
   "outputs": [
    {
     "name": "stdout",
     "output_type": "stream",
     "text": [
      "Hello, Ana\n",
      "Hello, Ana\n"
     ]
    }
   ],
   "source": [
    "// let nombre = \"Ana\";\n",
    "nombre = \"Ana\";\n",
    "console.log(\"Hello, \" + nombre);  // Concatenation\n",
    "console.log(`Hello, ${nombre}`);  // Template literal (modern approach)"
   ]
  },
  {
   "cell_type": "markdown",
   "metadata": {},
   "source": [
    "### b) **Numbers**\n",
    "JavaScript uses a **single number type** for both **integers** and **decimals**.\n",
    "\n"
   ]
  },
  {
   "cell_type": "code",
   "execution_count": 5,
   "metadata": {},
   "outputs": [
    {
     "name": "stdout",
     "output_type": "stream",
     "text": [
      "Sum: 45.14\n"
     ]
    }
   ],
   "source": [
    "let integer = 42;\n",
    "let decimal = 3.14;\n",
    "let sum = integer + decimal;\n",
    "console.log(\"Sum:\", sum);"
   ]
  },
  {
   "cell_type": "markdown",
   "metadata": {},
   "source": [
    "Special values:\n",
    "\n"
   ]
  },
  {
   "cell_type": "code",
   "execution_count": 6,
   "metadata": {},
   "outputs": [
    {
     "name": "stdout",
     "output_type": "stream",
     "text": [
      "Infinity: Infinity\n",
      "NaN: NaN\n"
     ]
    }
   ],
   "source": [
    "console.log(\"Infinity:\", Infinity);\n",
    "console.log(\"NaN:\", 0 / 0);  // NaN means \"Not a Number\""
   ]
  },
  {
   "cell_type": "markdown",
   "metadata": {},
   "source": [
    "### c) **Booleans**\n",
    "Booleans represent `true` or `false`.\n",
    "\n"
   ]
  },
  {
   "cell_type": "code",
   "execution_count": null,
   "metadata": {},
   "outputs": [],
   "source": [
    "let isAdult = true;\n",
    "let isMinor = false;\n",
    "console.log(\"Is adult:\", isMinor);"
   ]
  },
  {
   "cell_type": "code",
   "execution_count": null,
   "metadata": {},
   "outputs": [
    {
     "name": "stdout",
     "output_type": "stream",
     "text": [
      "Is adult: false\n"
     ]
    }
   ],
   "source": [
    "isMinor = false;\n",
    "console.log(\"Is adult:\", isMinor);"
   ]
  },
  {
   "cell_type": "markdown",
   "metadata": {},
   "source": [
    "Booleans are useful in **conditions**:\n",
    "\n"
   ]
  },
  {
   "cell_type": "code",
   "execution_count": 12,
   "metadata": {},
   "outputs": [
    {
     "name": "stdout",
     "output_type": "stream",
     "text": [
      "true\n",
      "false\n"
     ]
    }
   ],
   "source": [
    "age = 18;\n",
    "console.log(age >= 18);  // true\n",
    "console.log(age < 18);   // false"
   ]
  },
  {
   "cell_type": "markdown",
   "metadata": {},
   "source": [
    "### d) **Undefined and Null**"
   ]
  },
  {
   "cell_type": "code",
   "execution_count": 13,
   "metadata": {},
   "outputs": [
    {
     "name": "stdout",
     "output_type": "stream",
     "text": [
      "Undefined value: undefined\n",
      "Null value: null\n"
     ]
    }
   ],
   "source": [
    "let undefinedValue;\n",
    "console.log(\"Undefined value:\", undefinedValue);\n",
    "\n",
    "let emptyValue = null;\n",
    "console.log(\"Null value:\", emptyValue);"
   ]
  },
  {
   "cell_type": "markdown",
   "metadata": {},
   "source": [
    "- **`undefined`** means a variable **has not been assigned a value**.\n",
    "- **`null`** is manually assigned to indicate \"no value.\"\n",
    "\n"
   ]
  },
  {
   "cell_type": "markdown",
   "metadata": {},
   "source": [
    "### e) **Objects**\n",
    "\n",
    "Objects store multiple values in **key-value pairs**.\n",
    "\n"
   ]
  },
  {
   "cell_type": "code",
   "execution_count": 14,
   "metadata": {},
   "outputs": [
    {
     "name": "stdout",
     "output_type": "stream",
     "text": [
      "Name: Luis\n",
      "Age: 30\n"
     ]
    }
   ],
   "source": [
    "let person = {\n",
    "    name: \"Luis\",\n",
    "    age: 30,\n",
    "    city: \"Madrid\"\n",
    "};\n",
    "\n",
    "console.log(\"Name:\", person.name);\n",
    "console.log(\"Age:\", person[\"age\"]);"
   ]
  },
  {
   "cell_type": "markdown",
   "metadata": {},
   "source": [
    "### f) **Arrays**\n",
    "Arrays store lists of values."
   ]
  },
  {
   "cell_type": "code",
   "execution_count": null,
   "metadata": {},
   "outputs": [],
   "source": [
    "let colors = [\"Red\", \"Green\", \"Blue\"];\n",
    "console.log(\"First color:\", colors[0]);\n",
    "\n",
    "colors.push(\"Yellow\");  // Add an element\n",
    "console.log(\"List of colors:\", colors);"
   ]
  },
  {
   "cell_type": "markdown",
   "metadata": {},
   "source": [
    "## 3. Type Conversion (Type Coercion)\n",
    "\n",
    "JavaScript **automatically** converts types in some cases."
   ]
  },
  {
   "cell_type": "code",
   "execution_count": null,
   "metadata": {},
   "outputs": [],
   "source": [
    "console.log(\"5\" + 3);  // \"53\" (converts number to string)\n",
    "console.log(\"5\" - 3);  // 2 (converts string to number)\n",
    "console.log(5 + true); // 6 (true is converted to 1)"
   ]
  },
  {
   "cell_type": "markdown",
   "metadata": {},
   "source": [
    "Manual conversion:"
   ]
  },
  {
   "cell_type": "code",
   "execution_count": null,
   "metadata": {},
   "outputs": [],
   "source": [
    "console.log(Number(\"42\"));  // 42\n",
    "console.log(String(42));    // \"42\"\n",
    "console.log(Boolean(0));    // false\n",
    "console.log(Boolean(1));    // true"
   ]
  },
  {
   "cell_type": "markdown",
   "metadata": {},
   "source": [
    "## 4. Checking Data Types\n",
    "\n",
    "We can check the **type of a variable** using `typeof`:"
   ]
  },
  {
   "cell_type": "code",
   "execution_count": null,
   "metadata": {},
   "outputs": [],
   "source": [
    "console.log(typeof \"Hello\");     // string\n",
    "console.log(typeof 10);          // number\n",
    "console.log(typeof true);        // boolean\n",
    "console.log(typeof undefined);   // undefined\n",
    "console.log(typeof null);        // object (historical JavaScript error)\n",
    "console.log(typeof {});          // object\n",
    "console.log(typeof []);          // object (arrays are also objects)"
   ]
  },
  {
   "cell_type": "markdown",
   "metadata": {},
   "source": [
    "## 5. Conclusion\n",
    "\n",
    "- **Use `let` and `const` instead of `var`.**\n",
    "- **JavaScript has several data types:** `string`, `number`, `boolean`, `undefined`, `null`, `object`, `array`.\n",
    "- **`typeof` helps verify the type of a variable.**\n",
    "- **Automatic type conversion can cause unexpected results.**"
   ]
  }
 ],
 "metadata": {
  "kernelspec": {
   "display_name": "JavaScript (Node.js)",
   "language": "javascript",
   "name": "javascript"
  },
  "language_info": {
   "file_extension": ".js",
   "mimetype": "application/javascript",
   "name": "javascript",
   "version": "18.20.7"
  }
 },
 "nbformat": 4,
 "nbformat_minor": 4
}
