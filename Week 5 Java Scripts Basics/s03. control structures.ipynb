{
 "cells": [
  {
   "cell_type": "markdown",
   "metadata": {},
   "source": [
    "# Session 3: Control structures in JavaScript\n",
    "\n",
    "Control structures in JavaScript allow us to control the flow of execution in the code. In this notebook, we will cover:\n",
    "\n",
    "1. **Conditionals (`if-else`, `switch`)**\n",
    "2. **Loops (`for`, `while`, `do-while`)**\n",
    "3. **Exception Handling (`try-catch-finally`)**\n",
    "\n"
   ]
  },
  {
   "cell_type": "markdown",
   "metadata": {},
   "source": [
    "## 1. Conditionals: `if`, `else if`, `else`\n",
    "\n",
    "Conditionals allow us to execute code depending on whether a condition is `true` or `false`.\n",
    "\n"
   ]
  },
  {
   "cell_type": "markdown",
   "metadata": {},
   "source": [
    "### 1.1 Basic `if`\n",
    "\n"
   ]
  },
  {
   "cell_type": "code",
   "execution_count": 1,
   "metadata": {},
   "outputs": [
    {
     "name": "stdout",
     "output_type": "stream",
     "text": [
      "You are an adult\n"
     ]
    }
   ],
   "source": [
    "let age = 18;\n",
    "\n",
    "if (age >= 18) {\n",
    "    console.log(\"You are an adult\");\n",
    "}"
   ]
  },
  {
   "cell_type": "markdown",
   "metadata": {},
   "source": [
    "If the condition inside `if` is `true`, the block of code is executed.\n",
    "\n"
   ]
  },
  {
   "cell_type": "markdown",
   "metadata": {},
   "source": [
    "### 1.2 `if-else`\n"
   ]
  },
  {
   "cell_type": "code",
   "execution_count": null,
   "metadata": {},
   "outputs": [],
   "source": [
    "let temperature = 25;\n",
    "\n",
    "if (temperature > 30) {\n",
    "    console.log(\"It's hot\");\n",
    "} else {\n",
    "    console.log(\"The weather is pleasant\");\n",
    "}"
   ]
  },
  {
   "cell_type": "markdown",
   "metadata": {},
   "source": [
    "### 1.3 `if-else if-else`\n",
    "\n"
   ]
  },
  {
   "cell_type": "code",
   "execution_count": null,
   "metadata": {},
   "outputs": [],
   "source": [
    "let grade = 85;\n",
    "\n",
    "if (grade >= 90) {\n",
    "    console.log(\"Grade: A\");\n",
    "} else if (grade >= 80) {\n",
    "    console.log(\"Grade: B\");\n",
    "} else if (grade >= 70) {\n",
    "    console.log(\"Grade: C\");\n",
    "} else {\n",
    "    console.log(\"Failed\");\n",
    "}"
   ]
  },
  {
   "cell_type": "markdown",
   "metadata": {},
   "source": [
    "This structure is used when multiple conditions need to be checked.\n",
    "\n"
   ]
  },
  {
   "cell_type": "markdown",
   "metadata": {},
   "source": [
    "## 2. `switch` Statement\n",
    "\n",
    "The `switch` statement is useful when multiple cases need to be evaluated against a value."
   ]
  },
  {
   "cell_type": "code",
   "execution_count": null,
   "metadata": {},
   "outputs": [],
   "source": [
    "let day = \"Monday\";\n",
    "\n",
    "switch (day) {\n",
    "    case \"Monday\":\n",
    "        console.log(\"Start of the week\");\n",
    "        break;\n",
    "    case \"Wednesday\":\n",
    "        console.log(\"Midweek\");\n",
    "        break;\n",
    "    case \"Friday\":\n",
    "        console.log(\"Weekend is near\");\n",
    "        break;\n",
    "    default:\n",
    "        console.log(\"Normal day\");\n",
    "}"
   ]
  },
  {
   "cell_type": "markdown",
   "metadata": {},
   "source": [
    "### Notes on `switch`:\n",
    "- **`break`** prevents further cases from being executed.\n",
    "- **`default`** executes if no cases match.\n",
    "- It compares **strictly (`===`)**, so `\"5\"` (string) and `5` (number) are not the same.\n",
    "\n"
   ]
  },
  {
   "cell_type": "markdown",
   "metadata": {},
   "source": [
    "## 3. Loops in JavaScript\n",
    "\n",
    "Loops allow us to execute code repeatedly while a condition remains true.\n",
    "\n"
   ]
  },
  {
   "cell_type": "markdown",
   "metadata": {},
   "source": [
    "### 3.1 `for` - Counter-Based Loop"
   ]
  },
  {
   "cell_type": "code",
   "execution_count": null,
   "metadata": {},
   "outputs": [],
   "source": [
    "for (let i = 1; i <= 5; i++) {\n",
    "    console.log(\"Iteration:\", i);\n",
    "}"
   ]
  },
  {
   "cell_type": "markdown",
   "metadata": {},
   "source": [
    "- **`i = 1`** → Initialization\n",
    "- **`i <= 5`** → Condition\n",
    "- **`i++`** → Increment\n",
    "\n"
   ]
  },
  {
   "cell_type": "markdown",
   "metadata": {},
   "source": [
    "### 3.2 `for` with an Array"
   ]
  },
  {
   "cell_type": "code",
   "execution_count": null,
   "metadata": {},
   "outputs": [],
   "source": [
    "let colors = [\"Red\", \"Green\", \"Blue\"];\n",
    "\n",
    "for (let i = 0; i < colors.length; i++) {\n",
    "    console.log(\"Color:\", colors[i]);\n",
    "}"
   ]
  },
  {
   "cell_type": "markdown",
   "metadata": {},
   "source": [
    "### 3.3 `for of` (Iterating Over Arrays)"
   ]
  },
  {
   "cell_type": "code",
   "execution_count": null,
   "metadata": {},
   "outputs": [],
   "source": [
    "for (let color of colors) {\n",
    "    console.log(\"Color:\", color);\n",
    "}"
   ]
  },
  {
   "cell_type": "markdown",
   "metadata": {},
   "source": [
    "This method is cleaner for iterating over arrays.\n",
    "\n"
   ]
  },
  {
   "cell_type": "markdown",
   "metadata": {},
   "source": [
    "### 3.4 `for in` (Iterating Over Objects)"
   ]
  },
  {
   "cell_type": "code",
   "execution_count": null,
   "metadata": {},
   "outputs": [],
   "source": [
    "let person = {\n",
    "    name: \"Carlos\",\n",
    "    age: 30,\n",
    "    city: \"Madrid\"\n",
    "};\n",
    "\n",
    "for (let key in person) {\n",
    "    console.log(key + \":\", person[key]);\n",
    "}"
   ]
  },
  {
   "cell_type": "markdown",
   "metadata": {},
   "source": [
    "### 3.5 `while` - Conditional Loop"
   ]
  },
  {
   "cell_type": "code",
   "execution_count": null,
   "metadata": {},
   "outputs": [],
   "source": [
    "let counter = 0;\n",
    "\n",
    "while (counter < 5) {\n",
    "    console.log(\"Counter:\", counter);\n",
    "    counter++;\n",
    "}"
   ]
  },
  {
   "cell_type": "markdown",
   "metadata": {},
   "source": [
    "This loop runs **as long as the condition is `true`**.\n",
    "\n"
   ]
  },
  {
   "cell_type": "markdown",
   "metadata": {},
   "source": [
    "### 3.6 `do-while` - Executes at Least Once"
   ]
  },
  {
   "cell_type": "code",
   "execution_count": null,
   "metadata": {},
   "outputs": [],
   "source": [
    "let number = 10;\n",
    "\n",
    "do {\n",
    "    console.log(\"Number:\", number);\n",
    "    number--;\n",
    "} while (number > 7);"
   ]
  },
  {
   "cell_type": "markdown",
   "metadata": {},
   "source": [
    "The difference from `while` is that **`do-while` executes the block at least once** before evaluating the condition.\n",
    "\n"
   ]
  },
  {
   "cell_type": "markdown",
   "metadata": {},
   "source": [
    "## 4. Exception handling with `try-catch-finally`\n",
    "\n",
    "Errors in JavaScript can stop the program. We can handle them using `try-catch`."
   ]
  },
  {
   "cell_type": "code",
   "execution_count": null,
   "metadata": {},
   "outputs": [],
   "source": [
    "try {\n",
    "    let result = 10 / 0;  // Does not throw an error in JavaScript (returns Infinity)\n",
    "    console.log(\"Result:\", result);\n",
    "} catch (error) {\n",
    "    console.log(\"An error occurred:\", error.message);\n",
    "} finally {\n",
    "    console.log(\"This block always executes.\");\n",
    "}"
   ]
  },
  {
   "cell_type": "markdown",
   "metadata": {},
   "source": [
    "### 4.1 Catching errors in functions\n"
   ]
  },
  {
   "cell_type": "code",
   "execution_count": null,
   "metadata": {},
   "outputs": [],
   "source": [
    "function divide(a, b) {\n",
    "    if (b === 0) {\n",
    "        throw new Error(\"Cannot divide by zero\");\n",
    "    }\n",
    "    return a / b;\n",
    "}\n",
    "\n",
    "try {\n",
    "    console.log(divide(10, 2));  // Valid\n",
    "    console.log(divide(5, 0));   // Throws an error\n",
    "} catch (error) {\n",
    "    console.log(\"Error:\", error.message);\n",
    "}"
   ]
  },
  {
   "cell_type": "markdown",
   "metadata": {},
   "source": [
    "\n",
    "Here, `throw new Error()` generates an error, which is caught in `catch`.\n",
    "\n"
   ]
  },
  {
   "cell_type": "markdown",
   "metadata": {},
   "source": [
    "## 5. Using `break` and `continue` in Loops\n",
    "\n",
    "### 5.1 `break` - Exits a Loop Early\n",
    "\n"
   ]
  },
  {
   "cell_type": "code",
   "execution_count": null,
   "metadata": {},
   "outputs": [],
   "source": [
    "for (let i = 1; i <= 10; i++) {\n",
    "    if (i === 5) {\n",
    "        console.log(\"Loop stopped at\", i);\n",
    "        break;\n",
    "    }\n",
    "    console.log(i);\n",
    "}"
   ]
  },
  {
   "cell_type": "markdown",
   "metadata": {},
   "source": [
    "### 5.2 `continue` - Skips an Iteration and Proceeds"
   ]
  },
  {
   "cell_type": "code",
   "execution_count": null,
   "metadata": {},
   "outputs": [],
   "source": [
    "for (let i = 1; i <= 10; i++) {\n",
    "    if (i % 2 === 0) {\n",
    "        continue;  // Skips even numbers\n",
    "    }\n",
    "    console.log(i);\n",
    "}"
   ]
  },
  {
   "cell_type": "markdown",
   "metadata": {},
   "source": [
    "## Conclusion\n",
    "\n",
    "We have explored the most important **control structures** in JavaScript:\n",
    "\n",
    "- **Conditionals (`if-else`, `switch`)**\n",
    "- **Loops (`for`, `while`, `do-while`)**\n",
    "- **Exception handling (`try-catch-finally`)**\n",
    "- **Flow control (`break`, `continue`)**"
   ]
  }
 ],
 "metadata": {
  "kernelspec": {
   "display_name": "JavaScript (Node.js)",
   "language": "javascript",
   "name": "javascript"
  },
  "language_info": {
   "file_extension": ".js",
   "mimetype": "application/javascript",
   "name": "javascript",
   "version": "18.20.7"
  }
 },
 "nbformat": 4,
 "nbformat_minor": 4
}
