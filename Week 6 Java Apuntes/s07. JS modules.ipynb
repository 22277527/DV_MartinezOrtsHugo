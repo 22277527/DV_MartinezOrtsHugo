{
 "cells": [
  {
   "cell_type": "markdown",
   "metadata": {},
   "source": [
    "# Session 7: JavaScript Modules\n",
    "\n",
    "When working on data analysis projects in JavaScript, breaking the code into modules helps to organize and reuse functions efficiently. In this notebook, we will explore how to create and use modules in JavaScript for data science applications.\n",
    "\n",
    "## 1. What is a JavaScript Module?\n",
    "\n",
    "A module is a JavaScript file that contains reusable code. It can be imported into other files using `import` and `export`.\n",
    "\n",
    "### Benefits of using modules:\n",
    "- Organizes code into separate files\n",
    "- Enables function and class reuse\n",
    "- Prevents variable pollution in the global scope\n",
    "\n"
   ]
  },
  {
   "cell_type": "markdown",
   "metadata": {},
   "source": [
    "Before running the code in a **Node.js environment** or a **Jupyter Notebook with iJavaScript**, you need to install the required dependencies.\n",
    "\n",
    "### Steps to Set Up the Environment:\n",
    "\n",
    "1. **Initialize a Node.js Project**  \n",
    "   If you don't have a `package.json` file yet, run the following command in the terminal:\n",
    "\n",
    "   ```sh\n",
    "   npm init -y\n",
    "   ```\n",
    "\n",
    "   This will create a `package.json` file, which is necessary for managing dependencies.\n",
    "\n",
    "2. **Install iJavaScript (if using Jupyter Notebook)**  \n",
    "   If you want to run JavaScript in Jupyter Notebook, install iJavaScript:\n",
    "\n",
    "   ```sh\n",
    "   npm install -g ijavascript\n",
    "   ijsinstall\n",
    "   ```\n",
    "\n",
    "3. **Install Required Libraries**  \n",
    "   Depending on the module you want to use, install the following dependencies:\n",
    "\n",
    "   ```sh\n",
    "   npm install mathjs papaparse ijavascript-plotly date-fns\n",
    "   ```\n",
    "\n",
    "   This will install:\n",
    "   - `mathjs` → For advanced mathematical computations.\n",
    "   - `papaparse` → For handling CSV files.\n",
    "   - `plotly.js` → For data visualization.\n",
    "   - `date-fns` → For date handling in time series analysis.\n",
    "\n",
    "4. **Verify That the Modules Are Installed**  \n",
    "   You can run:\n",
    "\n",
    "   ```sh\n",
    "   npm list\n",
    "   ```\n",
    "\n",
    "   This will display a list of installed packages in your project.\n",
    "\n",
    "### Running in Jupyter Notebook\n",
    "If you're using Jupyter, open a notebook and make sure to select the **JavaScript (Node.js)** kernel.\n"
   ]
  },
  {
   "cell_type": "markdown",
   "metadata": {},
   "source": [
    "## 2. Creating a Module\n",
    "\n",
    "Let's create a file called `statistics.js` with functions for statistical calculations.\n",
    "\n",
    "```javascript\n",
    "function mean(arr) {\n",
    "    return arr.reduce((a, b) => a + b, 0) / arr.length;\n",
    "}\n",
    "\n",
    "function standardDeviation(arr) {\n",
    "    let m = mean(arr);\n",
    "    let variance = arr.map(x => (x - m) ** 2);\n",
    "    return Math.sqrt(mean(variance));\n",
    "}\n",
    "\n",
    "module.exports = { mean, standardDeviation };\n",
    "```\n"
   ]
  },
  {
   "cell_type": "markdown",
   "metadata": {},
   "source": [
    "This module contains two functions:\n",
    "- `mean(arr)`: Computes the mean of an array of numbers.\n",
    "- `standardDeviation(arr)`: Computes the standard deviation.\n",
    "\n"
   ]
  },
  {
   "cell_type": "markdown",
   "metadata": {},
   "source": [
    "## 3. Importing a Module\n",
    "\n",
    "To use the functions from `statistics.js` in another file:\n",
    "\n"
   ]
  },
  {
   "cell_type": "code",
   "execution_count": null,
   "metadata": {},
   "outputs": [],
   "source": [
    "let { mean, standardDeviation } = require(\"./statistics.js\");\n",
    "\n",
    "let data = [10, 20, 30, 40, 50];\n",
    "console.log(\"Mean:\", mean(data));\n",
    "console.log(\"Standard Deviation:\", standardDeviation(data));\n"
   ]
  },
  {
   "cell_type": "markdown",
   "metadata": {},
   "source": [
    "If we want to import the entire module:\n",
    "\n"
   ]
  },
  {
   "cell_type": "code",
   "execution_count": null,
   "metadata": {},
   "outputs": [],
   "source": [
    "let statistics = require(\"./statistics.js\");\n",
    "\n",
    "data = [10, 20, 30, 40, 50];\n",
    "\n",
    "console.log(\"Mean:\", statistics.mean(data));\n",
    "console.log(\"Standard Deviation:\", statistics.standardDeviation(data));"
   ]
  },
  {
   "cell_type": "markdown",
   "metadata": {},
   "source": [
    "## 4. Modules with Classes\n",
    "\n",
    "We can structure functions inside a class for better organization.\n",
    "\n",
    "### File: `analysis.js`\n",
    "\n",
    "```javascript\n",
    "class DataAnalysis {\n",
    "    constructor(data) {\n",
    "        this.data = data;\n",
    "    }\n",
    "\n",
    "    mean() {\n",
    "        return this.data.reduce((a, b) => a + b, 0) / this.data.length;\n",
    "    }\n",
    "\n",
    "    standardDeviation() {\n",
    "        let m = this.mean();\n",
    "        let variance = this.data.map(x => (x - m) ** 2);\n",
    "        return Math.sqrt(this.mean(variance));\n",
    "    }\n",
    "}\n",
    "\n",
    "// Export class using CommonJS\n",
    "module.exports = DataAnalysis;\n",
    "\n",
    "```\n"
   ]
  },
  {
   "cell_type": "markdown",
   "metadata": {},
   "source": [
    "### Importing and Using the Class\n",
    "\n"
   ]
  },
  {
   "cell_type": "code",
   "execution_count": null,
   "metadata": {},
   "outputs": [],
   "source": [
    "let DataAnalysis = require(\"./analysis.js\");\n",
    "\n",
    "let analysis = new DataAnalysis([5, 15, 25, 35, 45]);\n",
    "\n",
    "console.log(\"Mean:\", analysis.mean());\n",
    "console.log(\"Standard Deviation:\", analysis.standardDeviation());\n"
   ]
  },
  {
   "cell_type": "markdown",
   "metadata": {},
   "source": [
    "## 5. Using External Modules (Libraries)\n",
    "\n",
    "JavaScript allows importing external modules, such as `mathjs` for advanced mathematical calculations.\n",
    "\n"
   ]
  },
  {
   "cell_type": "code",
   "execution_count": null,
   "metadata": {},
   "outputs": [],
   "source": [
    "const { mean: mathMean, std: mathStd } = require(\"mathjs\");\n",
    "\n",
    "let data2 = [12, 15, 14, 10, 18];\n",
    "\n",
    "console.log(\"Mean using mathjs:\", mathMean(data2));\n",
    "console.log(\"Standard Deviation using mathjs:\", mathStd(data2));\n",
    "\n"
   ]
  },
  {
   "cell_type": "markdown",
   "metadata": {},
   "source": [
    "## 6. Modules for Data Handling in Node.js\n",
    "\n",
    "To work with CSV files in Node.js, we can use `papaparse`.\n",
    "\n"
   ]
  },
  {
   "cell_type": "code",
   "execution_count": null,
   "metadata": {},
   "outputs": [],
   "source": [
    "let fs = require(\"fs\");\n",
    "let Papa = require(\"papaparse\");\n",
    "\n",
    "let csvData = fs.readFileSync(\"data.csv\", \"utf8\");\n",
    "let parsedData = Papa.parse(csvData, { header: true });\n",
    "\n",
    "console.log(parsedData.data);\n",
    "\n",
    "\n"
   ]
  },
  {
   "cell_type": "markdown",
   "metadata": {},
   "source": [
    "## 7. Creating a Module for Data Visualization\n",
    "\n",
    "We can define a `chart.js` module that uses `chart.js` to visualize data.\n",
    "\n"
   ]
  },
  {
   "cell_type": "code",
   "execution_count": null,
   "metadata": {},
   "outputs": [],
   "source": [
    "const plotly = require(\"ijavascript-plotly\");\n",
    "\n",
    "// Function to create and display a bar chart in Jupyter Notebook\n",
    "function barChart(labels, values) {\n",
    "    let trace = {\n",
    "        x: labels,\n",
    "        y: values,\n",
    "        type: \"bar\",\n",
    "        marker: { color: \"blue\" }\n",
    "    };\n",
    "\n",
    "    let layout = {\n",
    "        title: \"Bar Chart using iJavaScript-Plotly\",\n",
    "        xaxis: { title: \"Categories\" },\n",
    "        yaxis: { title: \"Values\" }\n",
    "    };\n",
    "\n",
    "    // Display the chart in Jupyter Notebook\n",
    "    plotly([trace], layout);\n",
    "}\n",
    "\n",
    "// Example usage\n",
    "let labels = [\"A\", \"B\", \"C\"];\n",
    "let values = [10, 20, 30];\n",
    "\n",
    "barChart(labels, values);\n"
   ]
  },
  {
   "cell_type": "markdown",
   "metadata": {},
   "source": [
    "## 8. Modules for Time Series Analysis\n",
    "\n",
    "We can use `moment.js` or `date-fns` to handle dates in time series analysis.\n",
    "\n",
    "Example with `date-fns`:\n",
    "\n"
   ]
  },
  {
   "cell_type": "code",
   "execution_count": null,
   "metadata": {},
   "outputs": [],
   "source": [
    "const { format, addDays } = require(\"date-fns\");\n",
    "\n",
    "let date = new Date();\n",
    "console.log(\"Today:\", format(date, \"yyyy-MM-dd\"));\n",
    "console.log(\"In 7 days:\", format(addDays(date, 7), \"yyyy-MM-dd\"));\n"
   ]
  },
  {
   "cell_type": "markdown",
   "metadata": {},
   "source": [
    "## 9. Custom Modules for Machine Learning\n",
    "\n",
    "We can create a `ml.js` module to normalize data for machine learning applications.\n",
    "\n",
    "```javascript\n",
    "function normalize(data) {\n",
    "    let min = Math.min(...data);\n",
    "    let max = Math.max(...data);\n",
    "    return data.map(x => (x - min) / (max - min));\n",
    "}\n",
    "\n",
    "// Export using CommonJS (require)\n",
    "module.exports = normalize;\n",
    "```\n",
    "\n"
   ]
  },
  {
   "cell_type": "markdown",
   "metadata": {},
   "source": [
    "### Importing and Using the Function\n",
    "\n"
   ]
  },
  {
   "cell_type": "code",
   "execution_count": null,
   "metadata": {},
   "outputs": [],
   "source": [
    "let normalize = require(\"./ml.js\");\n",
    "\n",
    "let data3 = [50, 60, 70, 80, 90];\n",
    "console.log(\"Normalized data:\", normalize(data3));\n"
   ]
  },
  {
   "cell_type": "markdown",
   "metadata": {},
   "source": [
    "## Conclusion\n",
    "\n",
    "JavaScript modules help structure data science projects better by enabling code reuse and organization. Additionally, we can leverage external packages for analysis, manipulation, and visualization of data.\n"
   ]
  }
 ],
 "metadata": {
  "kernelspec": {
   "display_name": "JavaScript (Node.js)",
   "language": "javascript",
   "name": "javascript"
  },
  "language_info": {
   "file_extension": ".js",
   "mimetype": "application/javascript",
   "name": "javascript",
   "version": "20.18.3"
  }
 },
 "nbformat": 4,
 "nbformat_minor": 2
}
