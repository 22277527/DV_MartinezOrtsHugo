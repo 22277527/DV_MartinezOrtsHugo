{
 "cells": [
  {
   "cell_type": "markdown",
   "metadata": {},
   "source": [
    "# Session 5: Essential data structures in JavaScript\n",
    "\n",
    "Data scientists work with large volumes of information, and choosing the right data structure is crucial for efficiency and code clarity. In this section, we will explore six fundamental data structures in JavaScript and their applications in data science.\n",
    "\n",
    "## 1. Arrays\n",
    "\n",
    "Arrays are fundamental data structures that allow storing lists of elements. They are versatile and offer useful methods for data manipulation.\n"
   ]
  },
  {
   "cell_type": "code",
   "execution_count": null,
   "metadata": {},
   "outputs": [],
   "source": [
    "let data = [10, 20, 30, 40, 50];\n",
    "console.log(\"Data:\", data);\n",
    "\n",
    "// Access by index\n",
    "console.log(\"First element:\", data[0]);\n",
    "\n",
    "// Adding and removing elements\n",
    "data.push(60);  // Add to the end\n",
    "data.unshift(5);  // Add to the beginning\n",
    "console.log(\"After adding elements:\", data);\n",
    "\n",
    "data.pop();  // Remove last element\n",
    "data.shift();  // Remove first element\n",
    "console.log(\"After removing elements:\", data);\n",
    "\n",
    "// Iterating over an array\n",
    "data.forEach(num => console.log(\"Number:\", num));\n",
    "\n",
    "// Transformation with map\n",
    "let squares = data.map(num => num ** 2);\n",
    "console.log(\"Squares:\", squares);\n",
    "\n"
   ]
  },
  {
   "cell_type": "markdown",
   "metadata": {},
   "source": [
    "Arrays are ideal for storing sequences of numerical or categorical data in analytical tasks.\n",
    "\n"
   ]
  },
  {
   "cell_type": "markdown",
   "metadata": {},
   "source": [
    "## 2. Objects (Dictionaries)\n",
    "\n",
    "Objects allow storing data in key-value pairs, similar to dictionaries in Python.\n"
   ]
  },
  {
   "cell_type": "code",
   "execution_count": null,
   "metadata": {},
   "outputs": [],
   "source": [
    "let customer = {\n",
    "    name: \"Ana\",\n",
    "    age: 28,\n",
    "    purchases: [\"Laptop\", \"Phone\", \"Tablet\"]\n",
    "};\n",
    "console.log(\"Customer information:\", customer);\n",
    "\n",
    "// Access values\n",
    "console.log(\"Name:\", customer.name);\n",
    "console.log(\"Age:\", customer[\"age\"]);\n",
    "\n",
    "// Add a new key\n",
    "customer.email = \"ana@email.com\";\n",
    "console.log(\"After adding email:\", customer);\n",
    "\n",
    "// Iterate over an object\n",
    "for (let key in customer) {\n",
    "    console.log(key, \":\", customer[key]);\n",
    "}\n",
    "\n"
   ]
  },
  {
   "cell_type": "markdown",
   "metadata": {},
   "source": [
    "Objects are useful for representing entities with multiple attributes in data analysis.\n",
    "\n"
   ]
  },
  {
   "cell_type": "markdown",
   "metadata": {},
   "source": [
    "## 3. Sets\n",
    "\n",
    "`Set` is a collection of unique values, ideal for removing duplicates and working with grouped data.\n"
   ]
  },
  {
   "cell_type": "code",
   "execution_count": null,
   "metadata": {},
   "outputs": [],
   "source": [
    "let numbers2 = new Set([1, 2, 3, 3, 4, 4, 5]);\n",
    "console.log(\"Set of unique numbers:\", numbers2);\n",
    "\n",
    "// Add and remove elements\n",
    "numbers2.add(6);\n",
    "numbers2.delete(3);\n",
    "console.log(\"After modifications:\", numbers2);\n",
    "\n",
    "// Check if a value exists\n",
    "console.log(\"Is 2 in the set?\", numbers2.has(2));\n",
    "\n",
    "// Convert a set to an array\n",
    "let uniqueArray = [...numbers2];\n",
    "console.log(\"Array without duplicates:\", uniqueArray);\n",
    "\n"
   ]
  },
  {
   "cell_type": "markdown",
   "metadata": {},
   "source": [
    "Sets are useful for grouping operations, removing duplicates, and efficient element searching.\n",
    "\n"
   ]
  },
  {
   "cell_type": "markdown",
   "metadata": {},
   "source": [
    "## 4. Maps\n",
    "\n",
    "`Map` allows storing key-value pairs with keys of any type and provides efficient access.\n",
    "javascript\n"
   ]
  },
  {
   "cell_type": "code",
   "execution_count": null,
   "metadata": {},
   "outputs": [],
   "source": [
    "let products = new Map();\n",
    "products.set(\"Laptop\", 1500);\n",
    "products.set(\"Phone\", 800);\n",
    "products.set(\"Tablet\", 600);\n",
    "console.log(\"Product map:\", products);\n",
    "\n",
    "// Access values\n",
    "console.log(\"Laptop price:\", products.get(\"Laptop\"));\n",
    "\n",
    "// Check if a key exists\n",
    "console.log(\"Does 'Tablet' exist?\", products.has(\"Tablet\"));\n",
    "\n",
    "// Iterate over a Map\n",
    "products.forEach((value, key) => {\n",
    "    console.log(key, \":\", value);\n",
    "});\n",
    "\n",
    "// Remove an element\n",
    "products.delete(\"Phone\");\n",
    "console.log(\"After deleting 'Phone':\", products);\n",
    "\n"
   ]
  },
  {
   "cell_type": "markdown",
   "metadata": {},
   "source": [
    "Maps are useful in data science for storing key-value relationships, such as category labels and mappings.\n",
    "\n"
   ]
  },
  {
   "cell_type": "markdown",
   "metadata": {},
   "source": [
    "## 5. Stacks\n",
    "\n",
    "A **stack** is a data structure that follows the **LIFO (Last In, First Out)** principle, meaning that the last element to enter is the first one to exit. It is used in various applications such as:  \n",
    "\n",
    "- **Call stack management** in recursive functions.  \n",
    "- **Undo/redo systems** in text editors.  \n",
    "- **Mathematical expression evaluation.**  \n",
    "- **Memory management** in compilers.  "
   ]
  },
  {
   "cell_type": "code",
   "execution_count": null,
   "metadata": {},
   "outputs": [],
   "source": [
    "class Stack {\n",
    "    constructor() {\n",
    "        this.elements = [];\n",
    "    }\n",
    "    \n",
    "    push(element) {\n",
    "        this.elements.push(element);\n",
    "    }\n",
    "    \n",
    "    pop() {\n",
    "        return this.elements.pop();\n",
    "    }\n",
    "    \n",
    "    peek() {\n",
    "        return this.elements[this.elements.length - 1];\n",
    "    }\n",
    "    \n",
    "    size() {\n",
    "        return this.elements.length;\n",
    "    }\n",
    "    \n",
    "    isEmpty() {\n",
    "        return this.elements.length === 0;\n",
    "    }\n",
    "}\n",
    "\n",
    "let stack = new Stack();\n",
    "stack.push(10);\n",
    "stack.push(20);\n",
    "stack.push(30);\n",
    "console.log(\"Top element:\", stack.peek());\n",
    "console.log(\"Popped:\", stack.pop());\n",
    "console.log(\"Stack size:\", stack.size());\n",
    "\n"
   ]
  },
  {
   "cell_type": "markdown",
   "metadata": {},
   "source": [
    "Stacks are useful for solving problems related to nested structures and mathematical expression evaluations.\n",
    "\n"
   ]
  },
  {
   "cell_type": "markdown",
   "metadata": {},
   "source": [
    "### 6. **Queue (Cola) in JavaScript**\n",
    "\n",
    "A **queue** is a data structure that follows the **FIFO (First In, First Out)** principle, meaning that the first element to enter is the first one to exit. It is commonly used in scenarios such as:\n",
    "\n",
    "- **Task scheduling** in operating systems.\n",
    "- **Print job management** in a printer queue.\n",
    "- **Handling requests** in web servers.\n",
    "- **Breadth-first search (BFS)** in graph algorithms.\n",
    "\n",
    "### **Implementation of a Queue in JavaScript**\n",
    "Here is a simple queue implementation using a class:\n",
    "\n"
   ]
  },
  {
   "cell_type": "code",
   "execution_count": null,
   "metadata": {},
   "outputs": [],
   "source": [
    "class Queue {\n",
    "    constructor() {\n",
    "        this.items = [];\n",
    "    }\n",
    "\n",
    "    // Add an element to the queue (enqueue)\n",
    "    enqueue(element) {\n",
    "        this.items.push(element);\n",
    "    }\n",
    "\n",
    "    // Remove and return the first element (dequeue)\n",
    "    dequeue() {\n",
    "        if (this.isEmpty()) {\n",
    "            return \"Queue is empty\";\n",
    "        }\n",
    "        return this.items.shift();\n",
    "    }\n",
    "\n",
    "    // View the first element without removing it\n",
    "    front() {\n",
    "        return this.isEmpty() ? \"Queue is empty\" : this.items[0];\n",
    "    }\n",
    "\n",
    "    // Check if the queue is empty\n",
    "    isEmpty() {\n",
    "        return this.items.length === 0;\n",
    "    }\n",
    "\n",
    "    // Get the size of the queue\n",
    "    size() {\n",
    "        return this.items.length;\n",
    "    }\n",
    "\n",
    "    // Print the queue elements\n",
    "    print() {\n",
    "        console.log(this.items.toString());\n",
    "    }\n",
    "}\n",
    "\n",
    "// Example usage\n",
    "let queue = new Queue();\n",
    "queue.enqueue(\"Task 1\");\n",
    "queue.enqueue(\"Task 2\");\n",
    "queue.enqueue(\"Task 3\");\n",
    "console.log(\"Front element:\", queue.front()); // Task 1\n",
    "console.log(\"Dequeued element:\", queue.dequeue()); // Task 1\n",
    "console.log(\"Queue size:\", queue.size()); // 2\n",
    "queue.print(); // Task 2, Task 3\n",
    "\n"
   ]
  },
  {
   "cell_type": "markdown",
   "metadata": {},
   "source": [
    "### **Practical Example: Simulating a Customer Support System**\n",
    "A queue is often used in customer service applications where the first customer to arrive is the first to be served."
   ]
  },
  {
   "cell_type": "code",
   "execution_count": null,
   "metadata": {},
   "outputs": [],
   "source": [
    "class CustomerQueue {\n",
    "    constructor() {\n",
    "        this.queue = new Queue();\n",
    "    }\n",
    "\n",
    "    addCustomer(name) {\n",
    "        this.queue.enqueue(name);\n",
    "        console.log(`${name} has joined the queue.`);\n",
    "    }\n",
    "\n",
    "    serveCustomer() {\n",
    "        if (this.queue.isEmpty()) {\n",
    "            console.log(\"No customers in the queue.\");\n",
    "        } else {\n",
    "            console.log(`${this.queue.dequeue()} is being served.`);\n",
    "        }\n",
    "    }\n",
    "\n",
    "    queueStatus() {\n",
    "        console.log(\"Customers in queue:\", this.queue.items);\n",
    "    }\n",
    "}\n",
    "\n",
    "// Example usage\n",
    "let customerService = new CustomerQueue();\n",
    "customerService.addCustomer(\"Alice\");\n",
    "customerService.addCustomer(\"Bob\");\n",
    "customerService.addCustomer(\"Charlie\");\n",
    "\n",
    "customerService.serveCustomer(); // Alice is being served.\n",
    "customerService.queueStatus();   // Bob, Charlie in queue."
   ]
  },
  {
   "cell_type": "markdown",
   "metadata": {},
   "source": [
    "### **Summary**\n",
    "- **enqueue()**: Adds an element to the queue.\n",
    "- **dequeue()**: Removes and returns the first element.\n",
    "- **front()**: Displays the first element without removing it.\n",
    "- **isEmpty()**: Checks if the queue is empty.\n",
    "- **size()**: Returns the number of elements in the queue."
   ]
  },
  {
   "cell_type": "markdown",
   "metadata": {},
   "source": [
    "## Conclusion\n",
    "\n",
    "These six data structures are fundamental in data science with JavaScript. Arrays and objects are the most commonly used, while sets and maps provide efficiency in searches and groupings. Stacks and queues are useful for processing real-time data. Mastering these structures facilitates data manipulation and efficient algorithm implementation."
   ]
  }
 ],
 "metadata": {
  "kernelspec": {
   "display_name": "JavaScript (Node.js)",
   "language": "javascript",
   "name": "javascript"
  },
  "language_info": {
   "file_extension": ".js",
   "mimetype": "application/javascript",
   "name": "javascript",
   "version": "20.18.3"
  }
 },
 "nbformat": 4,
 "nbformat_minor": 2
}
