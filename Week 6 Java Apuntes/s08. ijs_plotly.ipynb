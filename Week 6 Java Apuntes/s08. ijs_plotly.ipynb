{
 "cells": [
  {
   "cell_type": "markdown",
   "metadata": {},
   "source": [
    "# **Session 10: Using `ijavascript-plotly` for Data Scientists**\n",
    "\n",
    "This session will cover how to use `require()` with `ijavascript-plotly` in Jupyter Notebook using the **JavaScript (Node.js) kernel**. We will explore how to create interactive visualizations for data science applications.\n",
    "\n"
   ]
  },
  {
   "cell_type": "markdown",
   "metadata": {},
   "source": [
    "## **1. Introduction to `ijavascript-plotly`**\n",
    "`ijavascript-plotly` is a package that enables **Plotly** visualizations inside Jupyter Notebook when using the **iJavaScript kernel**. It allows data scientists to create interactive charts using JavaScript.\n",
    "\n",
    "### **Why use `ijavascript-plotly`?**\n",
    "- Works inside Jupyter Notebook with JavaScript.\n",
    "- Allows interactive data visualization without switching to Python.\n",
    "- Supports various chart types like bar charts, scatter plots, and histograms.\n",
    "\n"
   ]
  },
  {
   "cell_type": "markdown",
   "metadata": {},
   "source": [
    "## **2. Installing Required Packages**\n",
    "Before using `ijavascript-plotly`, install the necessary dependencies:\n",
    "\n",
    "```sh\n",
    "npm install -g ijavascript\n",
    "ijsinstall\n",
    "npm install ijavascript-plotly\n",
    "```\n",
    "\n",
    "After installation, start Jupyter Notebook and select the **JavaScript (Node.js) kernel**."
   ]
  },
  {
   "cell_type": "markdown",
   "metadata": {},
   "source": [
    "## **3. Creating a Basic Bar Chart**\n",
    "Once inside a Jupyter Notebook with the **JavaScript (Node.js) kernel**, run the following code to generate a bar chart.\n",
    "\n"
   ]
  },
  {
   "cell_type": "code",
   "execution_count": null,
   "metadata": {},
   "outputs": [],
   "source": [
    "const plotly = require(\"ijavascript-plotly\");\n",
    "\n",
    "// Function to create and display a bar chart\n",
    "function barChart(labels, values) {\n",
    "    let trace = {\n",
    "        x: labels,\n",
    "        y: values,\n",
    "        type: \"bar\",\n",
    "        marker: { color: \"blue\" }\n",
    "    };\n",
    "\n",
    "    let layout = {\n",
    "        title: \"Bar Chart using iJavaScript-Plotly\",\n",
    "        xaxis: { title: \"Categories\" },\n",
    "        yaxis: { title: \"Values\" }\n",
    "    };\n",
    "\n",
    "    // Display the chart in Jupyter Notebook\n",
    "    plotly([trace], layout);\n",
    "}\n",
    "\n",
    "// Example usage\n",
    "let labels = [\"A\", \"B\", \"C\", \"D\"];\n",
    "let values = [15, 30, 45, 60];\n",
    "\n",
    "barChart(labels, values);\n",
    "\n"
   ]
  },
  {
   "cell_type": "markdown",
   "metadata": {},
   "source": [
    "### **Expected Output**\n",
    "- A **bar chart** will be displayed inside the Jupyter Notebook, visualizing the given categories and values.\n",
    "\n"
   ]
  },
  {
   "cell_type": "markdown",
   "metadata": {},
   "source": [
    "## **4. Creating a Scatter Plot**\n",
    "Scatter plots are useful for visualizing relationships between two numerical variables.\n",
    "\n"
   ]
  },
  {
   "cell_type": "code",
   "execution_count": null,
   "metadata": {},
   "outputs": [],
   "source": [
    "function scatterPlot(xValues, yValues) {\n",
    "    let trace = {\n",
    "        x: xValues,\n",
    "        y: yValues,\n",
    "        mode: \"markers\",\n",
    "        type: \"scatter\",\n",
    "        marker: { color: \"red\" }\n",
    "    };\n",
    "\n",
    "    let layout = {\n",
    "        title: \"Scatter Plot using iJavaScript-Plotly\",\n",
    "        xaxis: { title: \"X-Axis\" },\n",
    "        yaxis: { title: \"Y-Axis\" }\n",
    "    };\n",
    "\n",
    "    plotly([trace], layout);\n",
    "}\n",
    "\n",
    "// Example usage\n",
    "let xValues = [1, 2, 3, 4, 5];\n",
    "let yValues = [10, 20, 25, 40, 50];\n",
    "\n",
    "scatterPlot(xValues, yValues);\n",
    "\n"
   ]
  },
  {
   "cell_type": "markdown",
   "metadata": {},
   "source": [
    "### **Expected Output**\n",
    "- A **scatter plot** will be displayed inside Jupyter Notebook.\n",
    "\n"
   ]
  },
  {
   "cell_type": "markdown",
   "metadata": {},
   "source": [
    "## **5. Creating a Histogram**\n",
    "Histograms help in understanding the distribution of data.\n",
    "\n"
   ]
  },
  {
   "cell_type": "code",
   "execution_count": null,
   "metadata": {},
   "outputs": [],
   "source": [
    "function histogram(data) {\n",
    "    let trace = {\n",
    "        x: data,\n",
    "        type: \"histogram\",\n",
    "        marker: { color: \"green\" }\n",
    "    };\n",
    "\n",
    "    let layout = {\n",
    "        title: \"Histogram using iJavaScript-Plotly\",\n",
    "        xaxis: { title: \"Data Values\" },\n",
    "        yaxis: { title: \"Frequency\" }\n",
    "    };\n",
    "\n",
    "    plotly([trace], layout);\n",
    "}\n",
    "\n",
    "// Example usage\n",
    "let sampleData = [10, 12, 15, 10, 10, 20, 25, 30, 30, 15, 12, 18, 22, 25, 28];\n",
    "\n",
    "histogram(sampleData);\n",
    "\n"
   ]
  },
  {
   "cell_type": "markdown",
   "metadata": {},
   "source": [
    "### **Expected Output**\n",
    "- A **histogram** representing the distribution of `sampleData` will be displayed.\n",
    "\n"
   ]
  },
  {
   "cell_type": "markdown",
   "metadata": {},
   "source": [
    "## **6. Line Chart for Time Series Data**\n",
    "A line chart can be used to visualize trends over time.\n",
    "\n"
   ]
  },
  {
   "cell_type": "code",
   "execution_count": null,
   "metadata": {},
   "outputs": [],
   "source": [
    "function lineChart(dates, valuesY) {\n",
    "    let trace = {\n",
    "        x: dates,\n",
    "        y: valuesY,\n",
    "        type: \"scatter\",\n",
    "        mode: \"lines\",\n",
    "        marker: { color: \"purple\" }\n",
    "    };\n",
    "\n",
    "    let layout = {\n",
    "        title: \"Time Series Line Chart\",\n",
    "        xaxis: { title: \"Date\" },\n",
    "        yaxis: { title: \"Value\" }\n",
    "    };\n",
    "\n",
    "    plotly([trace], layout);\n",
    "}\n",
    "\n",
    "// Example usage\n",
    "let dates = [\"2024-01-01\", \"2024-01-02\", \"2024-01-03\", \"2024-01-04\", \"2024-01-05\"];\n",
    "let valuesY = [100, 150, 200, 250, 300];\n",
    "\n",
    "lineChart(dates, valuesY);\n",
    "\n"
   ]
  },
  {
   "cell_type": "markdown",
   "metadata": {},
   "source": [
    "### **Expected Output**\n",
    "- A **line chart** showing how values change over time.\n",
    "\n"
   ]
  },
  {
   "cell_type": "markdown",
   "metadata": {},
   "source": [
    "## **7. Combining Multiple Traces in One Plot**\n",
    "Sometimes, it is useful to compare multiple datasets in the same plot.\n",
    "\n"
   ]
  },
  {
   "cell_type": "code",
   "execution_count": null,
   "metadata": {},
   "outputs": [],
   "source": [
    "function multiTraceChart(labels, values1, values2) {\n",
    "    let trace1 = {\n",
    "        x: labels,\n",
    "        y: values1,\n",
    "        type: \"bar\",\n",
    "        name: \"Dataset 1\",\n",
    "        marker: { color: \"blue\" }\n",
    "    };\n",
    "\n",
    "    let trace2 = {\n",
    "        x: labels,\n",
    "        y: values2,\n",
    "        type: \"bar\",\n",
    "        name: \"Dataset 2\",\n",
    "        marker: { color: \"orange\" }\n",
    "    };\n",
    "\n",
    "    let layout = {\n",
    "        title: \"Multiple Data Series in One Chart\",\n",
    "        xaxis: { title: \"Categories\" },\n",
    "        yaxis: { title: \"Values\" },\n",
    "        barmode: \"group\"\n",
    "    };\n",
    "\n",
    "    plotly([trace1, trace2], layout);\n",
    "}\n",
    "\n",
    "// Example usage\n",
    "let values1 = [10, 20, 30, 40];\n",
    "let values2 = [15, 25, 35, 45];\n",
    "\n",
    "multiTraceChart([\"A\", \"B\", \"C\", \"D\"], values1, values2);\n",
    "\n"
   ]
  },
  {
   "cell_type": "markdown",
   "metadata": {},
   "source": [
    "### **Expected Output**\n",
    "- A **grouped bar chart** comparing two datasets.\n",
    "\n",
    "## **8. Customizing Charts**\n",
    "Plotly charts can be customized with:\n",
    "- **Colors** (`marker: { color: \"blue\" }`)\n",
    "- **Titles** (`title: \"Custom Title\"`)\n",
    "- **Gridlines** (`showgrid: true`)\n",
    "- **Legend customization** (`legend: { orientation: \"h\" }`)\n",
    "\n"
   ]
  },
  {
   "cell_type": "markdown",
   "metadata": {},
   "source": [
    "Example of a customized chart:\n",
    "\n"
   ]
  },
  {
   "cell_type": "code",
   "execution_count": null,
   "metadata": {},
   "outputs": [],
   "source": [
    "let trace = {\n",
    "    x: [\"X1\", \"X2\", \"X3\"],\n",
    "    y: [30, 60, 90],\n",
    "    type: \"bar\",\n",
    "    marker: { color: [\"red\", \"green\", \"blue\"] }\n",
    "};\n",
    "\n",
    "let layout = {\n",
    "    title: \"Customized Bar Chart\",\n",
    "    xaxis: { title: \"Custom X-Axis\" },\n",
    "    yaxis: { title: \"Custom Y-Axis\" },\n",
    "    legend: { orientation: \"h\" }\n",
    "};\n",
    "\n",
    "plotly([trace], layout);\n",
    "\n"
   ]
  },
  {
   "cell_type": "markdown",
   "metadata": {},
   "source": [
    "## **9. Conclusion**\n",
    "- `ijavascript-plotly` provides an easy way to create interactive plots in **Jupyter Notebook (JavaScript kernel)**.\n",
    "- Supports various chart types including **bar charts, scatter plots, histograms, and line charts**.\n",
    "- Can handle **time series data and multi-trace plots** for advanced visualization needs.\n",
    "\n",
    "This session introduced how to use **`ijavascript-plotly`** for data science applications inside Jupyter Notebook. You can now extend this knowledge to build more complex visualizations."
   ]
  }
 ],
 "metadata": {
  "kernelspec": {
   "display_name": "JavaScript (Node.js)",
   "language": "javascript",
   "name": "javascript"
  },
  "language_info": {
   "file_extension": ".js",
   "mimetype": "application/javascript",
   "name": "javascript",
   "version": "20.18.3"
  }
 },
 "nbformat": 4,
 "nbformat_minor": 2
}
