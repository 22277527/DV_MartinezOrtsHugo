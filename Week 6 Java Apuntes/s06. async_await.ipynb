{
 "cells": [
  {
   "cell_type": "markdown",
   "metadata": {},
   "source": [
    "# Session 6: Handling Promises and Async/Await in JavaScript\n",
    "\n",
    "When working with data processing, executing asynchronous tasks is crucial, especially when dealing with APIs, databases, or cloud computing. JavaScript provides Promises and `async/await` to efficiently manage asynchronous operations."
   ]
  },
  {
   "cell_type": "markdown",
   "metadata": {},
   "source": [
    "## 1. Introduction to Promises\n",
    "\n",
    "**Promises** are JavaScript objects that represent the eventual completion (or failure) of an asynchronous operation. They have three possible states:\n",
    "\n",
    "- **Pending**: The operation has not yet completed.\n",
    "- **Fulfilled**: The operation completed successfully.\n",
    "- **Rejected**: The operation failed.\n",
    "\n",
    "Example of a simple Promise:\n",
    "\n"
   ]
  },
  {
   "cell_type": "code",
   "execution_count": null,
   "metadata": {},
   "outputs": [],
   "source": [
    "let data = new Promise((resolve, reject) => {\n",
    "    let success = true; // Simulating a successful operation\n",
    "    setTimeout(() => {\n",
    "        if (success) {\n",
    "            resolve(\"Data loaded successfully\");\n",
    "        } else {\n",
    "            reject(\"Error loading data\");\n",
    "        }\n",
    "    }, 2000);\n",
    "});\n",
    "\n",
    "data.then(result => console.log(result))\n",
    "    .catch(error => console.error(error));\n",
    "\n"
   ]
  },
  {
   "cell_type": "markdown",
   "metadata": {},
   "source": [
    "Here, the Promise resolves successfully after 2 seconds.\n",
    "\n"
   ]
  },
  {
   "cell_type": "markdown",
   "metadata": {},
   "source": [
    "## 2. Chaining Promises\n",
    "\n",
    "When multiple asynchronous operations need to be performed in sequence, `.then()` can be used to chain multiple Promises.\n",
    "\n"
   ]
  },
  {
   "cell_type": "code",
   "execution_count": null,
   "metadata": {},
   "outputs": [],
   "source": [
    "function fetchData() {\n",
    "    return new Promise((resolve) => {\n",
    "        setTimeout(() => resolve([10, 20, 30, 40]), 2000);\n",
    "    });\n",
    "}\n",
    "\n",
    "function processData(data) {\n",
    "    return new Promise((resolve) => {\n",
    "        setTimeout(() => resolve(data.map(x => x * 2)), 2000);\n",
    "    });\n",
    "}\n",
    "\n",
    "fetchData()\n",
    "    .then(data => {\n",
    "        console.log(\"Original data:\", data);\n",
    "        return processData(data);\n",
    "    })\n",
    "    .then(processedData => console.log(\"Processed data:\", processedData))\n",
    "    .catch(error => console.error(\"Error:\", error));\n",
    "\n"
   ]
  },
  {
   "cell_type": "markdown",
   "metadata": {},
   "source": [
    "Each `.then()` receives the result from the previous one and returns a new Promise.\n",
    "\n"
   ]
  },
  {
   "cell_type": "markdown",
   "metadata": {},
   "source": [
    "## 3. Using `async` and `await`\n",
    "\n",
    "The `async/await` syntax allows writing asynchronous code in a more structured and readable way.\n",
    "\n",
    "### Rewriting the previous example using `async/await`:\n",
    "\n"
   ]
  },
  {
   "cell_type": "code",
   "execution_count": null,
   "metadata": {},
   "outputs": [],
   "source": [
    "async function dataFlow() {\n",
    "    try {\n",
    "        let data = await fetchData();\n",
    "        console.log(\"Original data:\", data);\n",
    "        \n",
    "        let processedData = await processData(data);\n",
    "        console.log(\"Processed data:\", processedData);\n",
    "    } catch (error) {\n",
    "        console.error(\"Error:\", error);\n",
    "    }\n",
    "}\n",
    "\n",
    "dataFlow();\n",
    "\n"
   ]
  },
  {
   "cell_type": "markdown",
   "metadata": {},
   "source": [
    "With `async/await`, the code looks more like synchronous code and is easier to read.\n",
    "\n"
   ]
  },
  {
   "cell_type": "markdown",
   "metadata": {},
   "source": [
    "## 4. Usage in Data Science\n",
    "\n",
    "In data science, retrieving data from APIs, processing it, and visualizing the results is common. A typical case is fetching data from a public API.\n",
    "\n",
    "Example of fetching data from an API using `fetch`:\n",
    "\n"
   ]
  },
  {
   "cell_type": "code",
   "execution_count": null,
   "metadata": {},
   "outputs": [],
   "source": [
    "async function fetchAPIData() {\n",
    "    try {\n",
    "        let response = await fetch(\"https://jsonplaceholder.typicode.com/posts\");\n",
    "        let data = await response.json();\n",
    "        console.log(\"First 5 records:\", data.slice(0, 5));\n",
    "    } catch (error) {\n",
    "        console.error(\"Error fetching data:\", error);\n",
    "    }\n",
    "}\n",
    "\n",
    "fetchAPIData();\n",
    "\n"
   ]
  },
  {
   "cell_type": "markdown",
   "metadata": {},
   "source": [
    "### Explanation:\n",
    "- `fetch()` performs an HTTP request and returns a Promise.\n",
    "- `await response.json()` converts the response into a JavaScript object.\n",
    "- `slice(0, 5)` is used to display only the first 5 records.\n",
    "\n"
   ]
  },
  {
   "cell_type": "markdown",
   "metadata": {},
   "source": [
    "## 5. Running Multiple Asynchronous Tasks with `Promise.all`\n",
    "\n",
    "Sometimes, multiple asynchronous calls need to be made, and all must complete before proceeding. `Promise.all()` allows executing several Promises in parallel.\n",
    "\n"
   ]
  },
  {
   "cell_type": "code",
   "execution_count": null,
   "metadata": {},
   "outputs": [],
   "source": [
    "async function fetchMultipleData() {\n",
    "    try {\n",
    "        let [users, posts] = await Promise.all([\n",
    "            fetch(\"https://jsonplaceholder.typicode.com/users\").then(res => res.json()),\n",
    "            fetch(\"https://jsonplaceholder.typicode.com/posts\").then(res => res.json())\n",
    "        ]);\n",
    "\n",
    "        console.log(\"Users:\", users.slice(0, 3));\n",
    "        console.log(\"Posts:\", posts.slice(0, 3));\n",
    "    } catch (error) {\n",
    "        console.error(\"Error fetching data:\", error);\n",
    "    }\n",
    "}\n",
    "\n",
    "fetchMultipleData();\n",
    "\n"
   ]
  },
  {
   "cell_type": "markdown",
   "metadata": {},
   "source": [
    "This method is useful when multiple datasets are needed before proceeding with the analysis.\n",
    "\n"
   ]
  },
  {
   "cell_type": "markdown",
   "metadata": {},
   "source": [
    "## Conclusion\n",
    "\n",
    "Handling Promises and `async/await` in JavaScript simplifies working with asynchronous data. These concepts are essential for data science when working with APIs, databases, or large datasets. Proper implementation of these techniques can significantly improve the efficiency of data analysis and visualization processes."
   ]
  }
 ],
 "metadata": {
  "kernelspec": {
   "display_name": "JavaScript (Node.js)",
   "language": "javascript",
   "name": "javascript"
  },
  "language_info": {
   "file_extension": ".js",
   "mimetype": "application/javascript",
   "name": "javascript",
   "version": "20.18.3"
  }
 },
 "nbformat": 4,
 "nbformat_minor": 2
}
