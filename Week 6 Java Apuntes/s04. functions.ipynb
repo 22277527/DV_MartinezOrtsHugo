{
 "cells": [
  {
   "cell_type": "markdown",
   "metadata": {},
   "source": [
    "# Session 4: Functions in JavaScript\n",
    "\n",
    "In this notebook, we will explore five essential functions in JavaScript. Functions allow us to encapsulate reusable logic and make our code more modular.\n",
    "\n",
    "## 1. Function to calculate the square of a number\n",
    "\n",
    "This function takes a number as an argument and returns its square.\n",
    "\n"
   ]
  },
  {
   "cell_type": "code",
   "execution_count": null,
   "metadata": {},
   "outputs": [],
   "source": [
    "function square(num) {\n",
    "    return num * num;\n",
    "}\n",
    "\n",
    "console.log(square(4));  // 16\n",
    "console.log(square(10)); // 100"
   ]
  },
  {
   "cell_type": "markdown",
   "metadata": {},
   "source": [
    "## 2. Function to check if a number is even or odd\n",
    "\n",
    "This function takes a number and returns `\"Even\"` if the number is even or `\"Odd\"` if it is odd.\n",
    "\n"
   ]
  },
  {
   "cell_type": "code",
   "execution_count": null,
   "metadata": {},
   "outputs": [],
   "source": [
    "function isEven(num) {\n",
    "    return (num % 2 === 0) ? \"Even\" : \"Odd\";\n",
    "}\n",
    "\n",
    "console.log(isEven(8));  // \"Even\"\n",
    "console.log(isEven(7));  // \"Odd\""
   ]
  },
  {
   "cell_type": "markdown",
   "metadata": {},
   "source": [
    "## 3. Function to count the number of characters in a string\n",
    "\n",
    "This function takes a text string and returns the number of characters it contains.\n",
    "\n"
   ]
  },
  {
   "cell_type": "code",
   "execution_count": null,
   "metadata": {},
   "outputs": [],
   "source": [
    "function countCharacters(text) {\n",
    "    return text.length;\n",
    "}\n",
    "\n",
    "console.log(countCharacters(\"Hello\"));        // 5\n",
    "console.log(countCharacters(\"JavaScript\"));   // 10"
   ]
  },
  {
   "cell_type": "markdown",
   "metadata": {},
   "source": [
    "## 4. Function to find the largest number in an array\n",
    "\n",
    "This function takes an array of numbers and returns the largest number in the list.\n",
    "\n",
    "The **spread operator (`...`)** expands an array into individual arguments, allowing `Math.max(...numbers)` to find the largest number in an array.\n",
    "\n"
   ]
  },
  {
   "cell_type": "code",
   "execution_count": null,
   "metadata": {},
   "outputs": [],
   "source": [
    "function findLargest(numbers) {\n",
    "    return Math.max(...numbers);\n",
    "}\n",
    "\n",
    "console.log(findLargest([3, 7, 2, 9, 5]));  // 9\n",
    "console.log(findLargest([15, 22, 8, 30]));  // 30"
   ]
  },
  {
   "cell_type": "markdown",
   "metadata": {},
   "source": [
    "## 5. Function to reverse a string\n",
    "\n",
    "This function takes a string and returns the same string with the characters in reverse order.\n",
    "\n"
   ]
  },
  {
   "cell_type": "code",
   "execution_count": null,
   "metadata": {},
   "outputs": [],
   "source": [
    "function reverseString(text) {\n",
    "    return text.split(\"\").reverse().join(\"\");\n",
    "}\n",
    "\n",
    "console.log(reverseString(\"Hello\"));        // \"olleH\"\n",
    "console.log(reverseString(\"JavaScript\"));   // \"tpircSavaJ\""
   ]
  },
  {
   "cell_type": "markdown",
   "metadata": {},
   "source": [
    "# Different ways to write functions in JavaScript\n",
    "\n",
    "JavaScript allows functions to be defined in multiple ways. In this notebook, we will explore five different ways to write functions, with examples and explanations.\n",
    "\n",
    "## 1. Function declaration\n",
    "\n",
    "Function declarations use the `function` keyword followed by a name. They can be called before their declaration due to *hoisting*.\n",
    "\n"
   ]
  },
  {
   "cell_type": "code",
   "execution_count": null,
   "metadata": {},
   "outputs": [],
   "source": [
    "function greet(name) {\n",
    "    return \"Hello, \" + name;\n",
    "}\n",
    "\n",
    "console.log(greet(\"Anna\"));"
   ]
  },
  {
   "cell_type": "markdown",
   "metadata": {},
   "source": [
    "## 2. Function expression\n",
    "\n",
    "Function expressions store functions in variables. They cannot be called before their declaration.\n",
    "\n"
   ]
  },
  {
   "cell_type": "code",
   "execution_count": null,
   "metadata": {},
   "outputs": [],
   "source": [
    "const farewell = function(name) {\n",
    "    return \"Goodbye, \" + name;\n",
    "};\n",
    "\n",
    "console.log(farewell(\"Carlos\"));"
   ]
  },
  {
   "cell_type": "markdown",
   "metadata": {},
   "source": [
    "## 3. Arrow function\n",
    "\n",
    "Arrow functions provide a shorter syntax for defining functions. They do not have their own `this`.\n",
    "\n"
   ]
  },
  {
   "cell_type": "code",
   "execution_count": null,
   "metadata": {},
   "outputs": [],
   "source": [
    "const multiply = (a, b) => a * b;\n",
    "\n",
    "console.log(multiply(4, 5));"
   ]
  },
  {
   "cell_type": "markdown",
   "metadata": {},
   "source": [
    "If the function has a single parameter, parentheses can be omitted:\n",
    "\n"
   ]
  },
  {
   "cell_type": "code",
   "execution_count": null,
   "metadata": {},
   "outputs": [],
   "source": [
    "const squareF = x => x * x;\n",
    "\n",
    "console.log(squareF(6));"
   ]
  },
  {
   "cell_type": "markdown",
   "metadata": {},
   "source": [
    "## 4. Function as a method in an object\n",
    "\n",
    "Functions can be part of an object and are called *methods*.\n",
    "\n"
   ]
  },
  {
   "cell_type": "code",
   "execution_count": null,
   "metadata": {},
   "outputs": [],
   "source": [
    "const person = {\n",
    "    name: \"Luis\",\n",
    "    greet: function() {\n",
    "        return \"Hello, I am \" + this.name;\n",
    "    }\n",
    "};\n",
    "\n",
    "console.log(person.greet());"
   ]
  },
  {
   "cell_type": "markdown",
   "metadata": {},
   "source": [
    "## 5. Function as a constructor\n",
    "\n",
    "Constructor functions are used to create objects using `new`.\n",
    "\n"
   ]
  },
  {
   "cell_type": "code",
   "execution_count": null,
   "metadata": {},
   "outputs": [],
   "source": [
    "function Person(name, age) {\n",
    "    this.name = name;\n",
    "    this.age = age;\n",
    "    this.introduce = function() {\n",
    "        return `Hello, I am ${this.name} and I am ${this.age} years old.`;\n",
    "    };\n",
    "}\n",
    "\n",
    "const john = new Person(\"John\", 30);\n",
    "console.log(john.introduce());"
   ]
  }
 ],
 "metadata": {
  "kernelspec": {
   "display_name": "JavaScript (Node.js)",
   "language": "javascript",
   "name": "javascript"
  },
  "language_info": {
   "file_extension": ".js",
   "mimetype": "application/javascript",
   "name": "javascript",
   "version": "20.18.3"
  }
 },
 "nbformat": 4,
 "nbformat_minor": 2
}
